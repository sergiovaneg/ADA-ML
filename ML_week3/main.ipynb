{
 "cells": [
  {
   "cell_type": "markdown",
   "metadata": {},
   "source": [
    "# Environment Initialization"
   ]
  },
  {
   "cell_type": "code",
   "execution_count": 1,
   "metadata": {},
   "outputs": [
    {
     "name": "stderr",
     "output_type": "stream",
     "text": [
      "2023-11-16 16:47:37.847468: I tensorflow/core/util/port.cc:111] oneDNN custom operations are on. You may see slightly different numerical results due to floating-point round-off errors from different computation orders. To turn them off, set the environment variable `TF_ENABLE_ONEDNN_OPTS=0`.\n",
      "2023-11-16 16:47:37.872429: E tensorflow/compiler/xla/stream_executor/cuda/cuda_dnn.cc:9342] Unable to register cuDNN factory: Attempting to register factory for plugin cuDNN when one has already been registered\n",
      "2023-11-16 16:47:37.872452: E tensorflow/compiler/xla/stream_executor/cuda/cuda_fft.cc:609] Unable to register cuFFT factory: Attempting to register factory for plugin cuFFT when one has already been registered\n",
      "2023-11-16 16:47:37.872457: E tensorflow/compiler/xla/stream_executor/cuda/cuda_blas.cc:1518] Unable to register cuBLAS factory: Attempting to register factory for plugin cuBLAS when one has already been registered\n",
      "2023-11-16 16:47:37.876680: I tensorflow/core/platform/cpu_feature_guard.cc:182] This TensorFlow binary is optimized to use available CPU instructions in performance-critical operations.\n",
      "To enable the following instructions: SSE4.1 SSE4.2 AVX AVX2 AVX_VNNI FMA, in other operations, rebuild TensorFlow with the appropriate compiler flags.\n"
     ]
    }
   ],
   "source": [
    "import matplotlib.pyplot as plt\n",
    "%matplotlib widget\n",
    "\n",
    "import pandas as pd\n",
    "import numpy as np\n",
    "\n",
    "from statsmodels.tsa.arima.model import ARIMA\n",
    "\n",
    "import tensorflow as tf\n",
    "from tensorflow import keras\n",
    "\n",
    "import os\n",
    "import shutil\n",
    "if not os.path.exists(\"./report/figures/\"):\n",
    "  os.makedirs(\"./report/figures/\")\n",
    "if not os.path.exists(\"./models/\"):\n",
    "  os.makedirs(\"./models/\")"
   ]
  },
  {
   "cell_type": "markdown",
   "metadata": {},
   "source": [
    "# Data Import/Pre-Processing/Visualization"
   ]
  },
  {
   "cell_type": "code",
   "execution_count": 2,
   "metadata": {},
   "outputs": [],
   "source": [
    "dtype = {\n",
    "  \"Datetime\": \"string\",\n",
    "  \"solar_mw\": np.float32,\n",
    "  \"wind-direction\": np.float32, \n",
    "  \"wind-speed\": np.float32,\n",
    "  \"humidity\": np.float32,\n",
    "  \"average-wind-speed-(period)\": np.float32,\n",
    "  \"average-pressure-(period)\": np.float32,\n",
    "  \"temperature\": np.float32\n",
    "}\n",
    "solar_energy_df = pd.read_csv(\"./solarenergy.csv\",\n",
    "                              delimiter=\",\",\n",
    "                              dtype=dtype)\n",
    "\n",
    "solar_energy_df[\"Datetime\"] = pd.to_datetime(solar_energy_df[\"Datetime\"],\n",
    "                                             format=\"%d/%m/%Y %H:%M\")\n",
    "solar_energy_df = solar_energy_df.set_index(\"Datetime\").sort_index()\n",
    "\n",
    "axes = solar_energy_df.plot(figsize=(8,5), subplots=True, sharex=True)\n",
    "plt.suptitle(\"Solar Energy Dataset (Raw)\")\n",
    "axes[-1].set_xlabel(\"Time\")\n",
    "for axis in axes:\n",
    "  axis.autoscale(True, \"x\", True)\n",
    "plt.savefig(\"./report/figures/timeseries_raw.svg\")\n",
    "plt.close(\"all\")\n",
    "\n",
    "solar_energy_df = solar_energy_df.dropna()\n",
    "solar_energy_df = solar_energy_df.resample(\"1H\").interpolate(\"linear\")\n",
    "\n",
    "axes = solar_energy_df.plot(figsize=(8,5), subplots=True, sharex=True)\n",
    "plt.suptitle(\"Solar Energy Dataset (Clean)\")\n",
    "axes[-1].set_xlabel(\"Time\")\n",
    "for axis in axes:\n",
    "  axis.autoscale(True, \"x\", True)\n",
    "plt.savefig(\"./report/figures/timeseries_clean.svg\")\n",
    "plt.close(\"all\")\n",
    "\n",
    "solar_energy_df = \\\n",
    "  (solar_energy_df - solar_energy_df.mean()) / solar_energy_df.std()\n",
    "\n",
    "axes = solar_energy_df.plot(figsize=(8,5), subplots=True, sharex=True)\n",
    "plt.suptitle(\"Solar Energy Dataset (Normalized)\")\n",
    "axes[-1].set_xlabel(\"Time\")\n",
    "for axis in axes:\n",
    "  axis.autoscale(True, \"x\", True)\n",
    "plt.savefig(\"./report/figures/timeseries_norm.svg\")\n",
    "plt.close(\"all\")"
   ]
  },
  {
   "cell_type": "markdown",
   "metadata": {},
   "source": [
    "# Baseline Model"
   ]
  },
  {
   "cell_type": "code",
   "execution_count": 3,
   "metadata": {},
   "outputs": [
    {
     "name": "stderr",
     "output_type": "stream",
     "text": [
      "/home/sergiovaneg/miniforge3/envs/ADAML/lib/python3.11/site-packages/statsmodels/base/model.py:607: ConvergenceWarning: Maximum Likelihood optimization failed to converge. Check mle_retvals\n",
      "  warnings.warn(\"Maximum Likelihood optimization failed to \"\n"
     ]
    },
    {
     "name": "stdout",
     "output_type": "stream",
     "text": [
      "                               SARIMAX Results                                \n",
      "==============================================================================\n",
      "Dep. Variable:               solar_mw   No. Observations:                 1544\n",
      "Model:                 ARIMA(5, 0, 3)   Log Likelihood                1884.828\n",
      "Date:                Thu, 16 Nov 2023   AIC                          -3737.655\n",
      "Time:                        16:47:45   BIC                          -3652.181\n",
      "Sample:                    05-03-2020   HQIC                         -3705.859\n",
      "                         - 07-06-2020                                         \n",
      "Covariance Type:                  opg                                         \n",
      "===============================================================================================\n",
      "                                  coef    std err          z      P>|z|      [0.025      0.975]\n",
      "-----------------------------------------------------------------------------------------------\n",
      "const                           0.0943      0.123      0.764      0.445      -0.148       0.336\n",
      "wind-direction                 -0.0004      0.004     -0.098      0.922      -0.009       0.008\n",
      "wind-speed                     -0.0052      0.005     -1.118      0.263      -0.014       0.004\n",
      "humidity                        0.0053      0.002      2.351      0.019       0.001       0.010\n",
      "average-wind-speed-(period)    -0.0002      0.002     -0.140      0.889      -0.003       0.003\n",
      "average-pressure-(period)      -0.0460      0.008     -5.600      0.000      -0.062      -0.030\n",
      "temperature                     0.0166      0.007      2.534      0.011       0.004       0.030\n",
      "ar.L1                           2.6579      0.066     40.088      0.000       2.528       2.788\n",
      "ar.L2                          -1.5499      0.152    -10.175      0.000      -1.848      -1.251\n",
      "ar.L3                          -1.5265      0.172     -8.851      0.000      -1.865      -1.188\n",
      "ar.L4                           2.0236      0.185     10.924      0.000       1.661       2.387\n",
      "ar.L5                          -0.6065      0.075     -8.100      0.000      -0.753      -0.460\n",
      "ma.L1                          -0.8126      0.059    -13.670      0.000      -0.929      -0.696\n",
      "ma.L2                          -0.8767      0.047    -18.663      0.000      -0.969      -0.785\n",
      "ma.L3                           0.7724      0.061     12.626      0.000       0.653       0.892\n",
      "sigma2                          0.0050      0.000     29.124      0.000       0.005       0.005\n",
      "===================================================================================\n",
      "Ljung-Box (L1) (Q):                  27.62   Jarque-Bera (JB):               201.95\n",
      "Prob(Q):                              0.00   Prob(JB):                         0.00\n",
      "Heteroskedasticity (H):               0.66   Skew:                            -0.64\n",
      "Prob(H) (two-sided):                  0.00   Kurtosis:                         4.22\n",
      "===================================================================================\n",
      "\n",
      "Warnings:\n",
      "[1] Covariance matrix calculated using the outer product of gradients (complex-step).\n",
      "Baseline RMSE: 0.8048753227701447\n",
      "Baseline MAE: 1.8466576505590249\n"
     ]
    }
   ],
   "source": [
    "training_ratio = 0.7\n",
    "training_limit = \\\n",
    "  solar_energy_df.index[\n",
    "      int(training_ratio*solar_energy_df.shape[0])\n",
    "    ]\n",
    "\n",
    "best_rmse = np.inf\n",
    "arimax_model = None\n",
    "\n",
    "x_train_df = solar_energy_df.iloc[\n",
    "                :int(training_ratio*solar_energy_df.shape[0]),\n",
    "                solar_energy_df.columns != \"solar_mw\"\n",
    "              ]\n",
    "y_train_df = solar_energy_df.loc[:training_limit-pd.Timedelta(hours=1),\n",
    "                                  \"solar_mw\"]\n",
    "\n",
    "x_test_df = solar_energy_df.iloc[\n",
    "              int(training_ratio*solar_energy_df.shape[0]):,1:\n",
    "            ]\n",
    "y_test_df = solar_energy_df.loc[training_limit:, \"solar_mw\"]\n",
    "\n",
    "for p in [5]:\n",
    "  for d in [0]:\n",
    "    for q in [3]:\n",
    "      try:\n",
    "        new_model = ARIMA(\n",
    "          endog=y_train_df,\n",
    "          exog=x_train_df,\n",
    "          order=(p,d,q)\n",
    "        ).fit()\n",
    "      except:\n",
    "        continue\n",
    "\n",
    "      new_prediction = new_model.get_forecast(\n",
    "          steps=solar_energy_df.index[-1],\n",
    "          exog=x_test_df).predicted_mean.to_numpy()\n",
    "      \n",
    "      new_rmse = np.sqrt(np.mean((new_prediction-y_test_df.to_numpy())**2))\n",
    "      if new_rmse < best_rmse:\n",
    "        best_rmse = new_rmse\n",
    "        arimax_model = new_model\n",
    "\n",
    "baseline_fit = arimax_model.fittedvalues\n",
    "\n",
    "baseline_prediction = arimax_model.get_forecast(\n",
    "    steps=solar_energy_df.index[-1],\n",
    "    exog=x_test_df\n",
    "  ).predicted_mean\n",
    "\n",
    "print(arimax_model.summary())\n",
    "p,d,q = arimax_model.specification[\"order\"]\n",
    "print(f\"Baseline RMSE: {best_rmse}\")\n",
    "print(f\"Baseline MAE: {np.abs(baseline_prediction-y_test_df.to_numpy()).max()}\")\n",
    "\n",
    "plt.figure(figsize=(8,5))\n",
    "plt.plot(solar_energy_df[\"solar_mw\"],\n",
    "         label=\"Measured\")\n",
    "plt.plot(baseline_fit, label=\"Fitted\")\n",
    "plt.plot(baseline_prediction, label=\"Estimated\")\n",
    "plt.autoscale(True, \"x\", tight=True)\n",
    "plt.title(f\"ARIMAX({p},{d},{q})\")\n",
    "plt.legend()\n",
    "plt.savefig(\"./report/figures/baseline_fit.svg\")\n",
    "plt.close(\"all\")"
   ]
  },
  {
   "cell_type": "markdown",
   "metadata": {},
   "source": [
    "# Recursive Models"
   ]
  },
  {
   "cell_type": "markdown",
   "metadata": {},
   "source": [
    "## Data Preparation"
   ]
  },
  {
   "cell_type": "code",
   "execution_count": 4,
   "metadata": {},
   "outputs": [
    {
     "name": "stderr",
     "output_type": "stream",
     "text": [
      "2023-11-16 16:47:47.513418: I tensorflow/compiler/xla/stream_executor/cuda/cuda_gpu_executor.cc:894] successful NUMA node read from SysFS had negative value (-1), but there must be at least one NUMA node, so returning NUMA node zero. See more at https://github.com/torvalds/linux/blob/v6.0/Documentation/ABI/testing/sysfs-bus-pci#L344-L355\n",
      "2023-11-16 16:47:47.532203: I tensorflow/compiler/xla/stream_executor/cuda/cuda_gpu_executor.cc:894] successful NUMA node read from SysFS had negative value (-1), but there must be at least one NUMA node, so returning NUMA node zero. See more at https://github.com/torvalds/linux/blob/v6.0/Documentation/ABI/testing/sysfs-bus-pci#L344-L355\n",
      "2023-11-16 16:47:47.532386: I tensorflow/compiler/xla/stream_executor/cuda/cuda_gpu_executor.cc:894] successful NUMA node read from SysFS had negative value (-1), but there must be at least one NUMA node, so returning NUMA node zero. See more at https://github.com/torvalds/linux/blob/v6.0/Documentation/ABI/testing/sysfs-bus-pci#L344-L355\n",
      "2023-11-16 16:47:47.534049: I tensorflow/compiler/xla/stream_executor/cuda/cuda_gpu_executor.cc:894] successful NUMA node read from SysFS had negative value (-1), but there must be at least one NUMA node, so returning NUMA node zero. See more at https://github.com/torvalds/linux/blob/v6.0/Documentation/ABI/testing/sysfs-bus-pci#L344-L355\n",
      "2023-11-16 16:47:47.534210: I tensorflow/compiler/xla/stream_executor/cuda/cuda_gpu_executor.cc:894] successful NUMA node read from SysFS had negative value (-1), but there must be at least one NUMA node, so returning NUMA node zero. See more at https://github.com/torvalds/linux/blob/v6.0/Documentation/ABI/testing/sysfs-bus-pci#L344-L355\n",
      "2023-11-16 16:47:47.534284: I tensorflow/compiler/xla/stream_executor/cuda/cuda_gpu_executor.cc:894] successful NUMA node read from SysFS had negative value (-1), but there must be at least one NUMA node, so returning NUMA node zero. See more at https://github.com/torvalds/linux/blob/v6.0/Documentation/ABI/testing/sysfs-bus-pci#L344-L355\n",
      "2023-11-16 16:47:47.568335: I tensorflow/compiler/xla/stream_executor/cuda/cuda_gpu_executor.cc:894] successful NUMA node read from SysFS had negative value (-1), but there must be at least one NUMA node, so returning NUMA node zero. See more at https://github.com/torvalds/linux/blob/v6.0/Documentation/ABI/testing/sysfs-bus-pci#L344-L355\n",
      "2023-11-16 16:47:47.568503: I tensorflow/compiler/xla/stream_executor/cuda/cuda_gpu_executor.cc:894] successful NUMA node read from SysFS had negative value (-1), but there must be at least one NUMA node, so returning NUMA node zero. See more at https://github.com/torvalds/linux/blob/v6.0/Documentation/ABI/testing/sysfs-bus-pci#L344-L355\n",
      "2023-11-16 16:47:47.568584: I tensorflow/compiler/xla/stream_executor/cuda/cuda_gpu_executor.cc:894] successful NUMA node read from SysFS had negative value (-1), but there must be at least one NUMA node, so returning NUMA node zero. See more at https://github.com/torvalds/linux/blob/v6.0/Documentation/ABI/testing/sysfs-bus-pci#L344-L355\n",
      "2023-11-16 16:47:47.568643: I tensorflow/core/common_runtime/gpu/gpu_device.cc:1886] Created device /job:localhost/replica:0/task:0/device:GPU:0 with 2288 MB memory:  -> device: 0, name: NVIDIA RTX A500 Laptop GPU, pci bus id: 0000:01:00.0, compute capability: 8.6\n"
     ]
    }
   ],
   "source": [
    "n_feats = len(x_train_df.columns)\n",
    "\n",
    "def tensor_memory_reshaper(in_np:np.ndarray, out_np:np.ndarray,\n",
    "                           memory:int, n_feats_internal:int = n_feats):\n",
    "  in_np = in_np.reshape((-1,1,n_feats_internal))\n",
    "  for _ in range(memory):\n",
    "    next_np = in_np[1:,-1,:].reshape(((-1,1,n_feats_internal)))\n",
    "    in_np = np.concatenate((in_np[:-1,:,:], next_np), axis=1)\n",
    "  return (tf.convert_to_tensor(in_np),\n",
    "          tf.convert_to_tensor(out_np[memory:]))\n",
    "\n",
    "x_train_np = np.pad(x_train_df.to_numpy(), ((0,0),(0,0)), mode=\"edge\")\n",
    "y_train_np = np.pad(y_train_df.to_numpy(), ((0,0),), mode=\"edge\")\n",
    "\n",
    "x_test_np = pd.concat((x_train_df.iloc[-q:], x_test_df)).to_numpy()\n",
    "y_test_np = pd.concat((y_train_df.iloc[-q:], y_test_df)).to_numpy()\n",
    "x_test_np = x_test_df.to_numpy()\n",
    "y_test_np = y_test_df.to_numpy()\n",
    "\n",
    "x_train_tensor,y_train_tensor = \\\n",
    "  tensor_memory_reshaper(x_train_np, y_train_np, 0)\n",
    "x_test_tensor,y_test_tensor = \\\n",
    "  tensor_memory_reshaper(x_test_np, y_test_np, 0)\n",
    "\n",
    "class StateResetCallback(keras.callbacks.Callback):\n",
    "  def on_epoch_begin(self, epoch, logs=None):\n",
    "    self.model.reset_states()"
   ]
  },
  {
   "cell_type": "markdown",
   "metadata": {},
   "source": [
    "## Simple RNN"
   ]
  },
  {
   "cell_type": "code",
   "execution_count": 5,
   "metadata": {},
   "outputs": [
    {
     "name": "stderr",
     "output_type": "stream",
     "text": [
      "No such comm: 2c5aa7123ab848f9bc551e87cfce1bf6\n"
     ]
    },
    {
     "name": "stderr",
     "output_type": "stream",
     "text": [
      "2023-11-16 16:47:47.688464: I tensorflow/tsl/platform/default/subprocess.cc:304] Start cannot spawn child process: No such file or directory\n"
     ]
    },
    {
     "name": "stdout",
     "output_type": "stream",
     "text": [
      "Epoch 1/100\n"
     ]
    },
    {
     "name": "stderr",
     "output_type": "stream",
     "text": [
      "2023-11-16 16:47:49.950639: I tensorflow/compiler/xla/service/service.cc:168] XLA service 0x7fdbd51321f0 initialized for platform CUDA (this does not guarantee that XLA will be used). Devices:\n",
      "2023-11-16 16:47:49.950661: I tensorflow/compiler/xla/service/service.cc:176]   StreamExecutor device (0): NVIDIA RTX A500 Laptop GPU, Compute Capability 8.6\n",
      "2023-11-16 16:47:49.953675: I tensorflow/compiler/mlir/tensorflow/utils/dump_mlir_util.cc:269] disabling MLIR crash reproducer, set env var `MLIR_CRASH_REPRODUCER_DIRECTORY` to enable.\n",
      "2023-11-16 16:47:49.961611: I tensorflow/compiler/xla/stream_executor/cuda/cuda_dnn.cc:442] Loaded cuDNN version 8800\n",
      "2023-11-16 16:47:50.000777: I ./tensorflow/compiler/jit/device_compiler.h:186] Compiled cluster using XLA!  This line is logged at most once for the lifetime of the process.\n"
     ]
    },
    {
     "name": "stdout",
     "output_type": "stream",
     "text": [
      "1540/1544 [============================>.] - ETA: 0s - loss: 0.9870INFO:tensorflow:Assets written to: ./models/rnn_model_checkpoint/assets\n"
     ]
    },
    {
     "name": "stderr",
     "output_type": "stream",
     "text": [
      "INFO:tensorflow:Assets written to: ./models/rnn_model_checkpoint/assets\n"
     ]
    },
    {
     "name": "stdout",
     "output_type": "stream",
     "text": [
      "1544/1544 [==============================] - 20s 11ms/step - loss: 0.9856\n",
      "Epoch 2/100\n",
      "1544/1544 [==============================] - ETA: 0s - loss: 0.9403INFO:tensorflow:Assets written to: ./models/rnn_model_checkpoint/assets\n"
     ]
    },
    {
     "name": "stderr",
     "output_type": "stream",
     "text": [
      "INFO:tensorflow:Assets written to: ./models/rnn_model_checkpoint/assets\n"
     ]
    },
    {
     "name": "stdout",
     "output_type": "stream",
     "text": [
      "1544/1544 [==============================] - 16s 10ms/step - loss: 0.9403\n",
      "Epoch 3/100\n",
      "1542/1544 [============================>.] - ETA: 0s - loss: 0.9314INFO:tensorflow:Assets written to: ./models/rnn_model_checkpoint/assets\n"
     ]
    },
    {
     "name": "stderr",
     "output_type": "stream",
     "text": [
      "INFO:tensorflow:Assets written to: ./models/rnn_model_checkpoint/assets\n"
     ]
    },
    {
     "name": "stdout",
     "output_type": "stream",
     "text": [
      "1544/1544 [==============================] - 16s 10ms/step - loss: 0.9304\n",
      "Epoch 4/100\n",
      "1544/1544 [==============================] - ETA: 0s - loss: 0.9204INFO:tensorflow:Assets written to: ./models/rnn_model_checkpoint/assets\n"
     ]
    },
    {
     "name": "stderr",
     "output_type": "stream",
     "text": [
      "INFO:tensorflow:Assets written to: ./models/rnn_model_checkpoint/assets\n"
     ]
    },
    {
     "name": "stdout",
     "output_type": "stream",
     "text": [
      "1544/1544 [==============================] - 16s 10ms/step - loss: 0.9204\n",
      "Epoch 5/100\n",
      "1544/1544 [==============================] - 13s 9ms/step - loss: 0.9274\n",
      "Epoch 6/100\n",
      "1544/1544 [==============================] - 14s 9ms/step - loss: 0.9225\n",
      "Epoch 7/100\n",
      "1540/1544 [============================>.] - ETA: 0s - loss: 0.9064INFO:tensorflow:Assets written to: ./models/rnn_model_checkpoint/assets\n"
     ]
    },
    {
     "name": "stderr",
     "output_type": "stream",
     "text": [
      "INFO:tensorflow:Assets written to: ./models/rnn_model_checkpoint/assets\n"
     ]
    },
    {
     "name": "stdout",
     "output_type": "stream",
     "text": [
      "1544/1544 [==============================] - 16s 10ms/step - loss: 0.9047\n",
      "Epoch 8/100\n",
      "1540/1544 [============================>.] - ETA: 0s - loss: 0.8881INFO:tensorflow:Assets written to: ./models/rnn_model_checkpoint/assets\n"
     ]
    },
    {
     "name": "stderr",
     "output_type": "stream",
     "text": [
      "INFO:tensorflow:Assets written to: ./models/rnn_model_checkpoint/assets\n"
     ]
    },
    {
     "name": "stdout",
     "output_type": "stream",
     "text": [
      "1544/1544 [==============================] - 16s 10ms/step - loss: 0.8870\n",
      "Epoch 9/100\n",
      "1544/1544 [==============================] - ETA: 0s - loss: 0.8841INFO:tensorflow:Assets written to: ./models/rnn_model_checkpoint/assets\n"
     ]
    },
    {
     "name": "stderr",
     "output_type": "stream",
     "text": [
      "INFO:tensorflow:Assets written to: ./models/rnn_model_checkpoint/assets\n"
     ]
    },
    {
     "name": "stdout",
     "output_type": "stream",
     "text": [
      "1544/1544 [==============================] - 16s 10ms/step - loss: 0.8841\n",
      "Epoch 10/100\n",
      "1544/1544 [==============================] - 14s 9ms/step - loss: 0.8966\n",
      "Epoch 11/100\n",
      "1544/1544 [==============================] - 14s 9ms/step - loss: 0.8980\n",
      "Epoch 12/100\n",
      "1544/1544 [==============================] - 14s 9ms/step - loss: 0.9019\n",
      "Epoch 13/100\n",
      "1544/1544 [==============================] - 14s 9ms/step - loss: 0.8928\n",
      "Epoch 14/100\n",
      "1544/1544 [==============================] - 14s 9ms/step - loss: 0.8947\n",
      "Epoch 15/100\n",
      "1544/1544 [==============================] - 14s 9ms/step - loss: 0.8878\n",
      "Epoch 16/100\n",
      "1544/1544 [==============================] - 14s 9ms/step - loss: 0.8914\n",
      "Epoch 17/100\n",
      "1544/1544 [==============================] - 14s 9ms/step - loss: 0.8954\n",
      "Epoch 18/100\n",
      "1544/1544 [==============================] - 14s 9ms/step - loss: 0.9013\n",
      "Epoch 19/100\n",
      "1544/1544 [==============================] - 14s 9ms/step - loss: 0.8933\n",
      "Epoch 20/100\n",
      "1544/1544 [==============================] - 14s 9ms/step - loss: 0.9068\n",
      "Epoch 21/100\n",
      "1544/1544 [==============================] - 14s 9ms/step - loss: 0.9345\n",
      "Epoch 22/100\n",
      "1544/1544 [==============================] - 14s 9ms/step - loss: 0.9227\n",
      "Epoch 23/100\n",
      "1544/1544 [==============================] - 14s 9ms/step - loss: 0.9174\n",
      "Epoch 24/100\n",
      "1544/1544 [==============================] - 14s 9ms/step - loss: 0.8976\n",
      "Epoch 25/100\n",
      "1542/1544 [============================>.] - ETA: 0s - loss: 0.8813INFO:tensorflow:Assets written to: ./models/rnn_model_checkpoint/assets\n"
     ]
    },
    {
     "name": "stderr",
     "output_type": "stream",
     "text": [
      "INFO:tensorflow:Assets written to: ./models/rnn_model_checkpoint/assets\n"
     ]
    },
    {
     "name": "stdout",
     "output_type": "stream",
     "text": [
      "1544/1544 [==============================] - 16s 11ms/step - loss: 0.8804\n",
      "Epoch 26/100\n",
      "1544/1544 [==============================] - ETA: 0s - loss: 0.8709INFO:tensorflow:Assets written to: ./models/rnn_model_checkpoint/assets\n"
     ]
    },
    {
     "name": "stderr",
     "output_type": "stream",
     "text": [
      "INFO:tensorflow:Assets written to: ./models/rnn_model_checkpoint/assets\n"
     ]
    },
    {
     "name": "stdout",
     "output_type": "stream",
     "text": [
      "1544/1544 [==============================] - 16s 10ms/step - loss: 0.8709\n",
      "Epoch 27/100\n",
      "1539/1544 [============================>.] - ETA: 0s - loss: 0.8644INFO:tensorflow:Assets written to: ./models/rnn_model_checkpoint/assets\n"
     ]
    },
    {
     "name": "stderr",
     "output_type": "stream",
     "text": [
      "INFO:tensorflow:Assets written to: ./models/rnn_model_checkpoint/assets\n"
     ]
    },
    {
     "name": "stdout",
     "output_type": "stream",
     "text": [
      "1544/1544 [==============================] - 16s 10ms/step - loss: 0.8638\n",
      "Epoch 28/100\n",
      "1541/1544 [============================>.] - ETA: 0s - loss: 0.8570INFO:tensorflow:Assets written to: ./models/rnn_model_checkpoint/assets\n"
     ]
    },
    {
     "name": "stderr",
     "output_type": "stream",
     "text": [
      "INFO:tensorflow:Assets written to: ./models/rnn_model_checkpoint/assets\n"
     ]
    },
    {
     "name": "stdout",
     "output_type": "stream",
     "text": [
      "1544/1544 [==============================] - 16s 11ms/step - loss: 0.8560\n",
      "Epoch 29/100\n",
      "1544/1544 [==============================] - 14s 9ms/step - loss: 0.8627\n",
      "Epoch 30/100\n",
      "1544/1544 [==============================] - 14s 9ms/step - loss: 0.8672\n",
      "Epoch 31/100\n",
      "1544/1544 [==============================] - 14s 9ms/step - loss: 0.8665\n",
      "Epoch 32/100\n",
      "1543/1544 [============================>.] - ETA: 0s - loss: 0.8499INFO:tensorflow:Assets written to: ./models/rnn_model_checkpoint/assets\n"
     ]
    },
    {
     "name": "stderr",
     "output_type": "stream",
     "text": [
      "INFO:tensorflow:Assets written to: ./models/rnn_model_checkpoint/assets\n"
     ]
    },
    {
     "name": "stdout",
     "output_type": "stream",
     "text": [
      "1544/1544 [==============================] - 16s 10ms/step - loss: 0.8494\n",
      "Epoch 33/100\n",
      "1544/1544 [==============================] - 14s 9ms/step - loss: 0.8512\n",
      "Epoch 34/100\n",
      "1541/1544 [============================>.] - ETA: 0s - loss: 0.8502INFO:tensorflow:Assets written to: ./models/rnn_model_checkpoint/assets\n"
     ]
    },
    {
     "name": "stderr",
     "output_type": "stream",
     "text": [
      "INFO:tensorflow:Assets written to: ./models/rnn_model_checkpoint/assets\n"
     ]
    },
    {
     "name": "stdout",
     "output_type": "stream",
     "text": [
      "1544/1544 [==============================] - 16s 10ms/step - loss: 0.8494\n",
      "Epoch 35/100\n",
      "1539/1544 [============================>.] - ETA: 0s - loss: 0.8434INFO:tensorflow:Assets written to: ./models/rnn_model_checkpoint/assets\n"
     ]
    },
    {
     "name": "stderr",
     "output_type": "stream",
     "text": [
      "INFO:tensorflow:Assets written to: ./models/rnn_model_checkpoint/assets\n"
     ]
    },
    {
     "name": "stdout",
     "output_type": "stream",
     "text": [
      "1544/1544 [==============================] - 16s 10ms/step - loss: 0.8432\n",
      "Epoch 36/100\n",
      "1544/1544 [==============================] - ETA: 0s - loss: 0.8370INFO:tensorflow:Assets written to: ./models/rnn_model_checkpoint/assets\n"
     ]
    },
    {
     "name": "stderr",
     "output_type": "stream",
     "text": [
      "INFO:tensorflow:Assets written to: ./models/rnn_model_checkpoint/assets\n"
     ]
    },
    {
     "name": "stdout",
     "output_type": "stream",
     "text": [
      "1544/1544 [==============================] - 16s 10ms/step - loss: 0.8370\n",
      "Epoch 37/100\n",
      "1539/1544 [============================>.] - ETA: 0s - loss: 0.8300INFO:tensorflow:Assets written to: ./models/rnn_model_checkpoint/assets\n"
     ]
    },
    {
     "name": "stderr",
     "output_type": "stream",
     "text": [
      "INFO:tensorflow:Assets written to: ./models/rnn_model_checkpoint/assets\n"
     ]
    },
    {
     "name": "stdout",
     "output_type": "stream",
     "text": [
      "1544/1544 [==============================] - 16s 10ms/step - loss: 0.8297\n",
      "Epoch 38/100\n",
      "1544/1544 [==============================] - ETA: 0s - loss: 0.8278INFO:tensorflow:Assets written to: ./models/rnn_model_checkpoint/assets\n"
     ]
    },
    {
     "name": "stderr",
     "output_type": "stream",
     "text": [
      "INFO:tensorflow:Assets written to: ./models/rnn_model_checkpoint/assets\n"
     ]
    },
    {
     "name": "stdout",
     "output_type": "stream",
     "text": [
      "1544/1544 [==============================] - 16s 10ms/step - loss: 0.8278\n",
      "Epoch 39/100\n",
      "1544/1544 [==============================] - 14s 9ms/step - loss: 0.8351\n",
      "Epoch 40/100\n",
      "1544/1544 [==============================] - 14s 9ms/step - loss: 0.8362\n",
      "Epoch 41/100\n",
      "1541/1544 [============================>.] - ETA: 0s - loss: 0.8279INFO:tensorflow:Assets written to: ./models/rnn_model_checkpoint/assets\n"
     ]
    },
    {
     "name": "stderr",
     "output_type": "stream",
     "text": [
      "INFO:tensorflow:Assets written to: ./models/rnn_model_checkpoint/assets\n"
     ]
    },
    {
     "name": "stdout",
     "output_type": "stream",
     "text": [
      "1544/1544 [==============================] - 16s 10ms/step - loss: 0.8275\n",
      "Epoch 42/100\n",
      "1544/1544 [==============================] - 14s 9ms/step - loss: 0.8441\n",
      "Epoch 43/100\n",
      "1544/1544 [==============================] - 14s 9ms/step - loss: 0.8383\n",
      "Epoch 44/100\n",
      "1544/1544 [==============================] - 14s 9ms/step - loss: 0.8387\n",
      "Epoch 45/100\n",
      "1544/1544 [==============================] - 14s 9ms/step - loss: 0.8302\n",
      "Epoch 46/100\n",
      "1544/1544 [==============================] - 14s 9ms/step - loss: 0.8285\n",
      "Epoch 47/100\n",
      "1540/1544 [============================>.] - ETA: 0s - loss: 0.8248INFO:tensorflow:Assets written to: ./models/rnn_model_checkpoint/assets\n"
     ]
    },
    {
     "name": "stderr",
     "output_type": "stream",
     "text": [
      "INFO:tensorflow:Assets written to: ./models/rnn_model_checkpoint/assets\n"
     ]
    },
    {
     "name": "stdout",
     "output_type": "stream",
     "text": [
      "1544/1544 [==============================] - 16s 11ms/step - loss: 0.8252\n",
      "Epoch 48/100\n",
      "1544/1544 [==============================] - ETA: 0s - loss: 0.8206INFO:tensorflow:Assets written to: ./models/rnn_model_checkpoint/assets\n"
     ]
    },
    {
     "name": "stderr",
     "output_type": "stream",
     "text": [
      "INFO:tensorflow:Assets written to: ./models/rnn_model_checkpoint/assets\n"
     ]
    },
    {
     "name": "stdout",
     "output_type": "stream",
     "text": [
      "1544/1544 [==============================] - 16s 10ms/step - loss: 0.8206\n",
      "Epoch 49/100\n",
      "1543/1544 [============================>.] - ETA: 0s - loss: 0.8190INFO:tensorflow:Assets written to: ./models/rnn_model_checkpoint/assets\n"
     ]
    },
    {
     "name": "stderr",
     "output_type": "stream",
     "text": [
      "INFO:tensorflow:Assets written to: ./models/rnn_model_checkpoint/assets\n"
     ]
    },
    {
     "name": "stdout",
     "output_type": "stream",
     "text": [
      "1544/1544 [==============================] - 16s 10ms/step - loss: 0.8188\n",
      "Epoch 50/100\n",
      "1540/1544 [============================>.] - ETA: 0s - loss: 0.8143INFO:tensorflow:Assets written to: ./models/rnn_model_checkpoint/assets\n"
     ]
    },
    {
     "name": "stderr",
     "output_type": "stream",
     "text": [
      "INFO:tensorflow:Assets written to: ./models/rnn_model_checkpoint/assets\n"
     ]
    },
    {
     "name": "stdout",
     "output_type": "stream",
     "text": [
      "1544/1544 [==============================] - 16s 10ms/step - loss: 0.8148\n",
      "Epoch 51/100\n",
      "1544/1544 [==============================] - 14s 9ms/step - loss: 0.8190\n",
      "Epoch 52/100\n",
      "1544/1544 [==============================] - 14s 9ms/step - loss: 0.8223\n",
      "Epoch 53/100\n",
      "1544/1544 [==============================] - 14s 9ms/step - loss: 0.8378\n",
      "Epoch 54/100\n",
      "1544/1544 [==============================] - 14s 9ms/step - loss: 0.8424\n",
      "Epoch 55/100\n",
      "1544/1544 [==============================] - 14s 9ms/step - loss: 0.8512\n",
      "Epoch 56/100\n",
      "1544/1544 [==============================] - 14s 9ms/step - loss: 0.8376\n",
      "Epoch 57/100\n",
      "1544/1544 [==============================] - 14s 9ms/step - loss: 0.8519\n",
      "Epoch 58/100\n",
      "1544/1544 [==============================] - 14s 9ms/step - loss: 0.8510\n",
      "Epoch 59/100\n",
      "1544/1544 [==============================] - 14s 9ms/step - loss: 0.8408\n",
      "Epoch 60/100\n",
      "1544/1544 [==============================] - 14s 9ms/step - loss: 0.8436\n",
      "Epoch 61/100\n",
      "1544/1544 [==============================] - 14s 9ms/step - loss: 0.8391\n",
      "Epoch 62/100\n",
      "1544/1544 [==============================] - 14s 9ms/step - loss: 0.8228\n",
      "Epoch 63/100\n",
      "1538/1544 [============================>.] - ETA: 0s - loss: 0.8082INFO:tensorflow:Assets written to: ./models/rnn_model_checkpoint/assets\n"
     ]
    },
    {
     "name": "stderr",
     "output_type": "stream",
     "text": [
      "INFO:tensorflow:Assets written to: ./models/rnn_model_checkpoint/assets\n"
     ]
    },
    {
     "name": "stdout",
     "output_type": "stream",
     "text": [
      "1544/1544 [==============================] - 16s 10ms/step - loss: 0.8053\n",
      "Epoch 64/100\n",
      "1544/1544 [==============================] - 13s 9ms/step - loss: 0.8348\n",
      "Epoch 65/100\n",
      "1544/1544 [==============================] - 14s 9ms/step - loss: 0.8268\n",
      "Epoch 66/100\n",
      "1544/1544 [==============================] - 14s 9ms/step - loss: 0.8372\n",
      "Epoch 67/100\n",
      "1544/1544 [==============================] - 14s 9ms/step - loss: 0.8512\n",
      "Epoch 68/100\n",
      "1544/1544 [==============================] - 12s 8ms/step - loss: 0.8429\n",
      "Epoch 69/100\n",
      "1544/1544 [==============================] - 14s 9ms/step - loss: 0.8376\n",
      "Epoch 70/100\n",
      "1544/1544 [==============================] - 14s 9ms/step - loss: 0.8395\n",
      "Epoch 71/100\n",
      "1544/1544 [==============================] - 14s 9ms/step - loss: 0.8510\n",
      "Epoch 72/100\n",
      "1544/1544 [==============================] - 14s 9ms/step - loss: 0.8543\n",
      "Epoch 73/100\n",
      "1544/1544 [==============================] - 14s 9ms/step - loss: 0.8535\n",
      "Epoch 74/100\n",
      "1544/1544 [==============================] - 14s 9ms/step - loss: 0.8450\n",
      "Epoch 75/100\n",
      "1544/1544 [==============================] - 14s 9ms/step - loss: 0.8476\n",
      "Epoch 76/100\n",
      "1544/1544 [==============================] - 14s 9ms/step - loss: 0.8483\n",
      "Epoch 77/100\n",
      "1544/1544 [==============================] - 14s 9ms/step - loss: 0.8635\n",
      "Epoch 78/100\n",
      "1544/1544 [==============================] - 14s 9ms/step - loss: 0.8647\n",
      "Epoch 79/100\n",
      "1544/1544 [==============================] - 14s 9ms/step - loss: 0.8636\n",
      "Epoch 80/100\n",
      "1544/1544 [==============================] - 14s 9ms/step - loss: 0.8741\n",
      "Epoch 81/100\n",
      "1544/1544 [==============================] - 14s 9ms/step - loss: 0.8640\n",
      "Epoch 82/100\n",
      "1544/1544 [==============================] - 14s 9ms/step - loss: 0.8771\n",
      "Epoch 83/100\n",
      "1544/1544 [==============================] - 14s 9ms/step - loss: 0.8769\n",
      "Epoch 84/100\n",
      "1544/1544 [==============================] - 14s 9ms/step - loss: 0.8660\n",
      "Epoch 85/100\n",
      "1544/1544 [==============================] - 14s 9ms/step - loss: 0.8690\n",
      "Epoch 86/100\n",
      "1544/1544 [==============================] - 14s 9ms/step - loss: 0.8629\n",
      "Epoch 87/100\n",
      "1544/1544 [==============================] - 14s 9ms/step - loss: 0.8580\n",
      "Epoch 88/100\n",
      "1544/1544 [==============================] - 14s 9ms/step - loss: 0.8743\n",
      "Epoch 89/100\n",
      "1544/1544 [==============================] - 14s 9ms/step - loss: 0.8728\n",
      "Epoch 90/100\n",
      "1544/1544 [==============================] - 14s 9ms/step - loss: 0.8658\n",
      "Epoch 91/100\n",
      "1544/1544 [==============================] - 14s 9ms/step - loss: 0.8757\n",
      "Epoch 92/100\n",
      "1544/1544 [==============================] - 14s 9ms/step - loss: 0.8639\n",
      "Epoch 93/100\n",
      "1544/1544 [==============================] - 14s 9ms/step - loss: 0.8647\n",
      "Epoch 94/100\n",
      "1544/1544 [==============================] - 14s 9ms/step - loss: 0.8627\n",
      "Epoch 95/100\n",
      "1544/1544 [==============================] - 14s 9ms/step - loss: 0.8611\n",
      "Epoch 96/100\n",
      "1544/1544 [==============================] - 14s 9ms/step - loss: 0.8531\n",
      "Epoch 97/100\n",
      "1544/1544 [==============================] - 14s 9ms/step - loss: 0.8497\n",
      "Epoch 98/100\n",
      "1544/1544 [==============================] - 14s 9ms/step - loss: 0.8596\n",
      "Epoch 99/100\n",
      "1544/1544 [==============================] - 14s 9ms/step - loss: 0.8456\n",
      "Epoch 100/100\n",
      "1544/1544 [==============================] - 14s 9ms/step - loss: 0.8559\n",
      "1544/1544 [==============================] - 6s 3ms/step\n",
      "663/663 [==============================] - 2s 3ms/step\n",
      "RNN RMSE: 1.0954536199569702\n",
      "RNN MAE: 2.865940809249878\n"
     ]
    }
   ],
   "source": [
    "if not os.path.exists(\"./models/rnn_model.keras\"):\n",
    "  rnn_model = keras.Sequential()\n",
    "  for _ in range(p-1):\n",
    "    rnn_model.add(keras.layers.SimpleRNN(q, stateful=True,\n",
    "                                         return_sequences=True,\n",
    "                                         batch_input_shape=(1,1,n_feats)))\n",
    "  rnn_model.add(keras.layers.SimpleRNN(q, stateful=True))\n",
    "  rnn_model.add(keras.layers.Dense(1, keras.activations.linear))\n",
    "\n",
    "  rnn_model_checkpoint = keras.callbacks.ModelCheckpoint(\n",
    "                            \"./models/rnn_model_checkpoint\",\n",
    "                            monitor=\"loss\",\n",
    "                            save_best_only=True,\n",
    "                            save_weights_only=False\n",
    "                          )\n",
    "  \n",
    "\n",
    "  rnn_model.compile(optimizer=\"Adam\", loss=\"mse\")\n",
    "  rnn_model.fit(x_train_tensor, y_train_tensor,\n",
    "                shuffle=False, batch_size=1,\n",
    "                epochs=100, verbose=\"auto\",\n",
    "                callbacks=[rnn_model_checkpoint, StateResetCallback()])\n",
    "  \n",
    "  rnn_model = keras.models.load_model(\"./models/rnn_model_checkpoint\")\n",
    "  shutil.rmtree(\"./models/rnn_model_checkpoint\")\n",
    "  rnn_model.save(\"./models/rnn_model.keras\")\n",
    "else:\n",
    "  rnn_model = keras.models.load_model(\"./models/rnn_model.keras\")\n",
    "\n",
    "rnn_model.reset_states()\n",
    "rnn_fit = rnn_model.predict(x_train_tensor, batch_size=1)\n",
    "rnn_prediction = rnn_model.predict(x_test_tensor, batch_size=1)\n",
    "\n",
    "print(f\"RNN RMSE: {np.sqrt(np.mean((rnn_prediction - y_test_tensor)**2))}\")\n",
    "print(f\"RNN MAE: {np.abs(rnn_prediction-y_test_tensor).max()}\")\n",
    "\n",
    "plt.figure(figsize=(8,5))\n",
    "plt.plot(solar_energy_df[\"solar_mw\"],\n",
    "         label=\"Measured\")\n",
    "plt.plot(y_train_df.index, rnn_fit, label=\"Fitted\")\n",
    "plt.plot(y_test_df.index, rnn_prediction, label=\"Estimated\")\n",
    "plt.autoscale(True, \"x\", tight=True)\n",
    "plt.title(f\"Simple RNN\")\n",
    "plt.legend()\n",
    "plt.savefig(\"./report/figures/rnn_fit.svg\")\n",
    "plt.close(\"all\")"
   ]
  },
  {
   "cell_type": "markdown",
   "metadata": {},
   "source": [
    "## LSTM"
   ]
  },
  {
   "cell_type": "code",
   "execution_count": 7,
   "metadata": {},
   "outputs": [
    {
     "name": "stdout",
     "output_type": "stream",
     "text": [
      "Epoch 1/100\n",
      "1543/1544 [============================>.] - ETA: 0s - loss: 0.8606INFO:tensorflow:Assets written to: ./models/lstm_model_checkpoint/assets\n"
     ]
    },
    {
     "name": "stderr",
     "output_type": "stream",
     "text": [
      "INFO:tensorflow:Assets written to: ./models/lstm_model_checkpoint/assets\n"
     ]
    },
    {
     "name": "stdout",
     "output_type": "stream",
     "text": [
      "1544/1544 [==============================] - 34s 20ms/step - loss: 0.8602\n",
      "Epoch 2/100\n",
      "1544/1544 [==============================] - 26s 17ms/step - loss: 0.9260\n",
      "Epoch 3/100\n",
      "1544/1544 [==============================] - 25s 16ms/step - loss: 0.8720\n",
      "Epoch 4/100\n",
      "1544/1544 [==============================] - 24s 15ms/step - loss: 0.8825\n",
      "Epoch 5/100\n",
      "1544/1544 [==============================] - 21s 14ms/step - loss: 0.8995\n",
      "Epoch 6/100\n",
      "1544/1544 [==============================] - 20s 13ms/step - loss: 0.9007\n",
      "Epoch 7/100\n",
      "1544/1544 [==============================] - 21s 13ms/step - loss: 0.8661\n",
      "Epoch 8/100\n",
      "1544/1544 [==============================] - 20s 13ms/step - loss: 0.8830\n",
      "Epoch 9/100\n",
      "1544/1544 [==============================] - 25s 16ms/step - loss: 0.8761\n",
      "Epoch 10/100\n",
      "1544/1544 [==============================] - ETA: 0s - loss: 0.8508INFO:tensorflow:Assets written to: ./models/lstm_model_checkpoint/assets\n"
     ]
    },
    {
     "name": "stderr",
     "output_type": "stream",
     "text": [
      "INFO:tensorflow:Assets written to: ./models/lstm_model_checkpoint/assets\n"
     ]
    },
    {
     "name": "stdout",
     "output_type": "stream",
     "text": [
      "1544/1544 [==============================] - 24s 15ms/step - loss: 0.8508\n",
      "Epoch 11/100\n",
      "1544/1544 [==============================] - 20s 13ms/step - loss: 0.8515\n",
      "Epoch 12/100\n",
      "1544/1544 [==============================] - 17s 11ms/step - loss: 0.8644\n",
      "Epoch 13/100\n",
      "1544/1544 [==============================] - 17s 11ms/step - loss: 0.8570\n",
      "Epoch 14/100\n",
      "1544/1544 [==============================] - 17s 11ms/step - loss: 0.8600\n",
      "Epoch 15/100\n",
      "1544/1544 [==============================] - ETA: 0s - loss: 0.8450INFO:tensorflow:Assets written to: ./models/lstm_model_checkpoint/assets\n"
     ]
    },
    {
     "name": "stderr",
     "output_type": "stream",
     "text": [
      "INFO:tensorflow:Assets written to: ./models/lstm_model_checkpoint/assets\n"
     ]
    },
    {
     "name": "stdout",
     "output_type": "stream",
     "text": [
      "1544/1544 [==============================] - 23s 15ms/step - loss: 0.8450\n",
      "Epoch 16/100\n",
      "1544/1544 [==============================] - 17s 11ms/step - loss: 0.8456\n",
      "Epoch 17/100\n",
      "1544/1544 [==============================] - 17s 11ms/step - loss: 0.8559\n",
      "Epoch 18/100\n",
      "1542/1544 [============================>.] - ETA: 0s - loss: 0.8394INFO:tensorflow:Assets written to: ./models/lstm_model_checkpoint/assets\n"
     ]
    },
    {
     "name": "stderr",
     "output_type": "stream",
     "text": [
      "INFO:tensorflow:Assets written to: ./models/lstm_model_checkpoint/assets\n"
     ]
    },
    {
     "name": "stdout",
     "output_type": "stream",
     "text": [
      "1544/1544 [==============================] - 23s 15ms/step - loss: 0.8384\n",
      "Epoch 19/100\n",
      "1544/1544 [==============================] - 17s 11ms/step - loss: 0.8420\n",
      "Epoch 20/100\n",
      "1544/1544 [==============================] - 17s 11ms/step - loss: 0.8417\n",
      "Epoch 21/100\n",
      "1544/1544 [==============================] - 17s 11ms/step - loss: 0.8418\n",
      "Epoch 22/100\n",
      "1544/1544 [==============================] - 17s 11ms/step - loss: 0.8456\n",
      "Epoch 23/100\n",
      "1544/1544 [==============================] - 17s 11ms/step - loss: 0.8398\n",
      "Epoch 24/100\n",
      "1544/1544 [==============================] - 17s 11ms/step - loss: 0.8438\n",
      "Epoch 25/100\n",
      "1544/1544 [==============================] - 17s 11ms/step - loss: 0.8402\n",
      "Epoch 26/100\n",
      "1542/1544 [============================>.] - ETA: 0s - loss: 0.8374INFO:tensorflow:Assets written to: ./models/lstm_model_checkpoint/assets\n"
     ]
    },
    {
     "name": "stderr",
     "output_type": "stream",
     "text": [
      "INFO:tensorflow:Assets written to: ./models/lstm_model_checkpoint/assets\n"
     ]
    },
    {
     "name": "stdout",
     "output_type": "stream",
     "text": [
      "1544/1544 [==============================] - 23s 15ms/step - loss: 0.8365\n",
      "Epoch 27/100\n",
      "1543/1544 [============================>.] - ETA: 0s - loss: 0.8282INFO:tensorflow:Assets written to: ./models/lstm_model_checkpoint/assets\n"
     ]
    },
    {
     "name": "stderr",
     "output_type": "stream",
     "text": [
      "INFO:tensorflow:Assets written to: ./models/lstm_model_checkpoint/assets\n"
     ]
    },
    {
     "name": "stdout",
     "output_type": "stream",
     "text": [
      "1544/1544 [==============================] - 23s 15ms/step - loss: 0.8276\n",
      "Epoch 28/100\n",
      "1541/1544 [============================>.] - ETA: 0s - loss: 0.8255INFO:tensorflow:Assets written to: ./models/lstm_model_checkpoint/assets\n"
     ]
    },
    {
     "name": "stderr",
     "output_type": "stream",
     "text": [
      "INFO:tensorflow:Assets written to: ./models/lstm_model_checkpoint/assets\n"
     ]
    },
    {
     "name": "stdout",
     "output_type": "stream",
     "text": [
      "1544/1544 [==============================] - 23s 15ms/step - loss: 0.8245\n",
      "Epoch 29/100\n",
      "1542/1544 [============================>.] - ETA: 0s - loss: 0.8183INFO:tensorflow:Assets written to: ./models/lstm_model_checkpoint/assets\n"
     ]
    },
    {
     "name": "stderr",
     "output_type": "stream",
     "text": [
      "INFO:tensorflow:Assets written to: ./models/lstm_model_checkpoint/assets\n"
     ]
    },
    {
     "name": "stdout",
     "output_type": "stream",
     "text": [
      "1544/1544 [==============================] - 23s 15ms/step - loss: 0.8174\n",
      "Epoch 30/100\n",
      "1544/1544 [==============================] - 17s 11ms/step - loss: 0.8281\n",
      "Epoch 31/100\n",
      "1540/1544 [============================>.] - ETA: 0s - loss: 0.8159INFO:tensorflow:Assets written to: ./models/lstm_model_checkpoint/assets\n"
     ]
    },
    {
     "name": "stderr",
     "output_type": "stream",
     "text": [
      "INFO:tensorflow:Assets written to: ./models/lstm_model_checkpoint/assets\n"
     ]
    },
    {
     "name": "stdout",
     "output_type": "stream",
     "text": [
      "1544/1544 [==============================] - 23s 15ms/step - loss: 0.8147\n",
      "Epoch 32/100\n",
      "1542/1544 [============================>.] - ETA: 0s - loss: 0.8041INFO:tensorflow:Assets written to: ./models/lstm_model_checkpoint/assets\n"
     ]
    },
    {
     "name": "stderr",
     "output_type": "stream",
     "text": [
      "INFO:tensorflow:Assets written to: ./models/lstm_model_checkpoint/assets\n"
     ]
    },
    {
     "name": "stdout",
     "output_type": "stream",
     "text": [
      "1544/1544 [==============================] - 22s 15ms/step - loss: 0.8032\n",
      "Epoch 33/100\n",
      "1542/1544 [============================>.] - ETA: 0s - loss: 0.7968INFO:tensorflow:Assets written to: ./models/lstm_model_checkpoint/assets\n"
     ]
    },
    {
     "name": "stderr",
     "output_type": "stream",
     "text": [
      "INFO:tensorflow:Assets written to: ./models/lstm_model_checkpoint/assets\n"
     ]
    },
    {
     "name": "stdout",
     "output_type": "stream",
     "text": [
      "1544/1544 [==============================] - 23s 15ms/step - loss: 0.7959\n",
      "Epoch 34/100\n",
      "1543/1544 [============================>.] - ETA: 0s - loss: 0.7960INFO:tensorflow:Assets written to: ./models/lstm_model_checkpoint/assets\n"
     ]
    },
    {
     "name": "stderr",
     "output_type": "stream",
     "text": [
      "INFO:tensorflow:Assets written to: ./models/lstm_model_checkpoint/assets\n"
     ]
    },
    {
     "name": "stdout",
     "output_type": "stream",
     "text": [
      "1544/1544 [==============================] - 23s 15ms/step - loss: 0.7955\n",
      "Epoch 35/100\n",
      "1543/1544 [============================>.] - ETA: 0s - loss: 0.7841INFO:tensorflow:Assets written to: ./models/lstm_model_checkpoint/assets\n"
     ]
    },
    {
     "name": "stderr",
     "output_type": "stream",
     "text": [
      "INFO:tensorflow:Assets written to: ./models/lstm_model_checkpoint/assets\n"
     ]
    },
    {
     "name": "stdout",
     "output_type": "stream",
     "text": [
      "1544/1544 [==============================] - 23s 15ms/step - loss: 0.7836\n",
      "Epoch 36/100\n",
      "1544/1544 [==============================] - 17s 11ms/step - loss: 0.7881\n",
      "Epoch 37/100\n",
      "1540/1544 [============================>.] - ETA: 0s - loss: 0.7820INFO:tensorflow:Assets written to: ./models/lstm_model_checkpoint/assets\n"
     ]
    },
    {
     "name": "stderr",
     "output_type": "stream",
     "text": [
      "INFO:tensorflow:Assets written to: ./models/lstm_model_checkpoint/assets\n"
     ]
    },
    {
     "name": "stdout",
     "output_type": "stream",
     "text": [
      "1544/1544 [==============================] - 23s 15ms/step - loss: 0.7807\n",
      "Epoch 38/100\n",
      "1544/1544 [==============================] - 17s 11ms/step - loss: 0.7861\n",
      "Epoch 39/100\n",
      "1541/1544 [============================>.] - ETA: 0s - loss: 0.7780INFO:tensorflow:Assets written to: ./models/lstm_model_checkpoint/assets\n"
     ]
    },
    {
     "name": "stderr",
     "output_type": "stream",
     "text": [
      "INFO:tensorflow:Assets written to: ./models/lstm_model_checkpoint/assets\n"
     ]
    },
    {
     "name": "stdout",
     "output_type": "stream",
     "text": [
      "1544/1544 [==============================] - 23s 15ms/step - loss: 0.7768\n",
      "Epoch 40/100\n",
      "1542/1544 [============================>.] - ETA: 0s - loss: 0.7709INFO:tensorflow:Assets written to: ./models/lstm_model_checkpoint/assets\n"
     ]
    },
    {
     "name": "stderr",
     "output_type": "stream",
     "text": [
      "INFO:tensorflow:Assets written to: ./models/lstm_model_checkpoint/assets\n"
     ]
    },
    {
     "name": "stdout",
     "output_type": "stream",
     "text": [
      "1544/1544 [==============================] - 23s 15ms/step - loss: 0.7700\n",
      "Epoch 41/100\n",
      "1544/1544 [==============================] - 17s 11ms/step - loss: 0.7734\n",
      "Epoch 42/100\n",
      "1544/1544 [==============================] - 17s 11ms/step - loss: 0.8024\n",
      "Epoch 43/100\n",
      "1544/1544 [==============================] - 17s 11ms/step - loss: 0.8083\n",
      "Epoch 44/100\n",
      "1544/1544 [==============================] - 17s 11ms/step - loss: 0.7879\n",
      "Epoch 45/100\n",
      "1544/1544 [==============================] - 17s 11ms/step - loss: 0.7838\n",
      "Epoch 46/100\n",
      "1544/1544 [==============================] - 17s 11ms/step - loss: 0.7924\n",
      "Epoch 47/100\n",
      "1544/1544 [==============================] - 17s 11ms/step - loss: 0.7908\n",
      "Epoch 48/100\n",
      "1544/1544 [==============================] - 17s 11ms/step - loss: 0.7829\n",
      "Epoch 49/100\n",
      "1544/1544 [==============================] - 17s 11ms/step - loss: 0.7711\n",
      "Epoch 50/100\n",
      "1544/1544 [==============================] - 17s 11ms/step - loss: 0.7815\n",
      "Epoch 51/100\n",
      "1544/1544 [==============================] - 17s 11ms/step - loss: 0.7941\n",
      "Epoch 52/100\n",
      "1544/1544 [==============================] - ETA: 0s - loss: 0.7634INFO:tensorflow:Assets written to: ./models/lstm_model_checkpoint/assets\n"
     ]
    },
    {
     "name": "stderr",
     "output_type": "stream",
     "text": [
      "INFO:tensorflow:Assets written to: ./models/lstm_model_checkpoint/assets\n"
     ]
    },
    {
     "name": "stdout",
     "output_type": "stream",
     "text": [
      "1544/1544 [==============================] - 23s 15ms/step - loss: 0.7634\n",
      "Epoch 53/100\n",
      "1544/1544 [==============================] - ETA: 0s - loss: 0.7568INFO:tensorflow:Assets written to: ./models/lstm_model_checkpoint/assets\n"
     ]
    },
    {
     "name": "stderr",
     "output_type": "stream",
     "text": [
      "INFO:tensorflow:Assets written to: ./models/lstm_model_checkpoint/assets\n"
     ]
    },
    {
     "name": "stdout",
     "output_type": "stream",
     "text": [
      "1544/1544 [==============================] - 22s 15ms/step - loss: 0.7568\n",
      "Epoch 54/100\n",
      "1544/1544 [==============================] - 17s 11ms/step - loss: 0.7806\n",
      "Epoch 55/100\n",
      "1544/1544 [==============================] - 17s 11ms/step - loss: 0.7630\n",
      "Epoch 56/100\n",
      "1541/1544 [============================>.] - ETA: 0s - loss: 0.7540INFO:tensorflow:Assets written to: ./models/lstm_model_checkpoint/assets\n"
     ]
    },
    {
     "name": "stderr",
     "output_type": "stream",
     "text": [
      "INFO:tensorflow:Assets written to: ./models/lstm_model_checkpoint/assets\n"
     ]
    },
    {
     "name": "stdout",
     "output_type": "stream",
     "text": [
      "1544/1544 [==============================] - 23s 15ms/step - loss: 0.7526\n",
      "Epoch 57/100\n",
      "1544/1544 [==============================] - 17s 11ms/step - loss: 0.7694\n",
      "Epoch 58/100\n",
      "1544/1544 [==============================] - 17s 11ms/step - loss: 0.7613\n",
      "Epoch 59/100\n",
      "1544/1544 [==============================] - 17s 11ms/step - loss: 0.7728\n",
      "Epoch 60/100\n",
      "1544/1544 [==============================] - 17s 11ms/step - loss: 0.7598\n",
      "Epoch 61/100\n",
      "1544/1544 [==============================] - 17s 11ms/step - loss: 0.7749\n",
      "Epoch 62/100\n",
      "1542/1544 [============================>.] - ETA: 0s - loss: 0.7471INFO:tensorflow:Assets written to: ./models/lstm_model_checkpoint/assets\n"
     ]
    },
    {
     "name": "stderr",
     "output_type": "stream",
     "text": [
      "INFO:tensorflow:Assets written to: ./models/lstm_model_checkpoint/assets\n"
     ]
    },
    {
     "name": "stdout",
     "output_type": "stream",
     "text": [
      "1544/1544 [==============================] - 23s 15ms/step - loss: 0.7462\n",
      "Epoch 63/100\n",
      "1544/1544 [==============================] - 17s 11ms/step - loss: 0.7527\n",
      "Epoch 64/100\n",
      "1544/1544 [==============================] - 17s 11ms/step - loss: 0.7749\n",
      "Epoch 65/100\n",
      "1544/1544 [==============================] - ETA: 0s - loss: 0.7455INFO:tensorflow:Assets written to: ./models/lstm_model_checkpoint/assets\n"
     ]
    },
    {
     "name": "stderr",
     "output_type": "stream",
     "text": [
      "INFO:tensorflow:Assets written to: ./models/lstm_model_checkpoint/assets\n"
     ]
    },
    {
     "name": "stdout",
     "output_type": "stream",
     "text": [
      "1544/1544 [==============================] - 23s 15ms/step - loss: 0.7455\n",
      "Epoch 66/100\n",
      "1544/1544 [==============================] - 17s 11ms/step - loss: 0.7508\n",
      "Epoch 67/100\n",
      "1544/1544 [==============================] - 17s 11ms/step - loss: 0.7649\n",
      "Epoch 68/100\n",
      "1543/1544 [============================>.] - ETA: 0s - loss: 0.7415INFO:tensorflow:Assets written to: ./models/lstm_model_checkpoint/assets\n"
     ]
    },
    {
     "name": "stderr",
     "output_type": "stream",
     "text": [
      "INFO:tensorflow:Assets written to: ./models/lstm_model_checkpoint/assets\n"
     ]
    },
    {
     "name": "stdout",
     "output_type": "stream",
     "text": [
      "1544/1544 [==============================] - 23s 15ms/step - loss: 0.7410\n",
      "Epoch 69/100\n",
      "1544/1544 [==============================] - 17s 11ms/step - loss: 0.7662\n",
      "Epoch 70/100\n",
      "1544/1544 [==============================] - 17s 11ms/step - loss: 0.7670\n",
      "Epoch 71/100\n",
      "1544/1544 [==============================] - 17s 11ms/step - loss: 0.7599\n",
      "Epoch 72/100\n",
      "1543/1544 [============================>.] - ETA: 0s - loss: 0.7363INFO:tensorflow:Assets written to: ./models/lstm_model_checkpoint/assets\n"
     ]
    },
    {
     "name": "stderr",
     "output_type": "stream",
     "text": [
      "INFO:tensorflow:Assets written to: ./models/lstm_model_checkpoint/assets\n"
     ]
    },
    {
     "name": "stdout",
     "output_type": "stream",
     "text": [
      "1544/1544 [==============================] - 23s 15ms/step - loss: 0.7359\n",
      "Epoch 73/100\n",
      "1544/1544 [==============================] - 17s 11ms/step - loss: 0.7561\n",
      "Epoch 74/100\n",
      "1544/1544 [==============================] - 17s 11ms/step - loss: 0.7571\n",
      "Epoch 75/100\n",
      "1544/1544 [==============================] - 17s 11ms/step - loss: 0.7407\n",
      "Epoch 76/100\n",
      "1544/1544 [==============================] - 17s 11ms/step - loss: 0.7380\n",
      "Epoch 77/100\n",
      "1544/1544 [==============================] - 17s 11ms/step - loss: 0.7426\n",
      "Epoch 78/100\n",
      "1544/1544 [==============================] - 17s 11ms/step - loss: 0.7392\n",
      "Epoch 79/100\n",
      "1544/1544 [==============================] - 17s 11ms/step - loss: 0.7479\n",
      "Epoch 80/100\n",
      "1544/1544 [==============================] - 17s 11ms/step - loss: 0.7484\n",
      "Epoch 81/100\n",
      "1544/1544 [==============================] - 17s 11ms/step - loss: 0.7836\n",
      "Epoch 82/100\n",
      "1544/1544 [==============================] - 17s 11ms/step - loss: 0.7654\n",
      "Epoch 83/100\n",
      "1544/1544 [==============================] - 17s 11ms/step - loss: 0.7635\n",
      "Epoch 84/100\n",
      "1544/1544 [==============================] - 17s 11ms/step - loss: 0.7534\n",
      "Epoch 85/100\n",
      "1544/1544 [==============================] - 17s 11ms/step - loss: 0.7567\n",
      "Epoch 86/100\n",
      "1544/1544 [==============================] - 17s 11ms/step - loss: 0.7465\n",
      "Epoch 87/100\n",
      "1544/1544 [==============================] - 17s 11ms/step - loss: 0.7500\n",
      "Epoch 88/100\n",
      "1544/1544 [==============================] - 17s 11ms/step - loss: 0.7900\n",
      "Epoch 89/100\n",
      "1544/1544 [==============================] - 17s 11ms/step - loss: 0.7567\n",
      "Epoch 90/100\n",
      "1544/1544 [==============================] - 17s 11ms/step - loss: 0.7754\n",
      "Epoch 91/100\n",
      "1544/1544 [==============================] - 17s 11ms/step - loss: 0.7698\n",
      "Epoch 92/100\n",
      "1544/1544 [==============================] - 17s 11ms/step - loss: 0.7761\n",
      "Epoch 93/100\n",
      "1544/1544 [==============================] - 17s 11ms/step - loss: 0.7606\n",
      "Epoch 94/100\n",
      "1544/1544 [==============================] - 17s 11ms/step - loss: 0.7652\n",
      "Epoch 95/100\n",
      "1544/1544 [==============================] - 17s 11ms/step - loss: 0.7599\n",
      "Epoch 96/100\n",
      "1544/1544 [==============================] - 17s 11ms/step - loss: 0.7593\n",
      "Epoch 97/100\n",
      "1544/1544 [==============================] - 17s 11ms/step - loss: 0.7649\n",
      "Epoch 98/100\n",
      "1544/1544 [==============================] - 17s 11ms/step - loss: 0.7717\n",
      "Epoch 99/100\n",
      "1544/1544 [==============================] - 17s 11ms/step - loss: 0.7615\n",
      "Epoch 100/100\n",
      "1544/1544 [==============================] - 17s 11ms/step - loss: 0.7827\n",
      "1544/1544 [==============================] - 8s 4ms/step\n",
      "663/663 [==============================] - 3s 4ms/step\n",
      "LSTM RMSE: 1.0954536199569702\n",
      "LSTM MAE: 2.865940809249878\n"
     ]
    },
    {
     "name": "stderr",
     "output_type": "stream",
     "text": [
      "WARNING:Comm:No such comm: 497f659074984f2e9c8596922937bb78\n"
     ]
    }
   ],
   "source": [
    "if not os.path.exists(\"./models/lstm_model.keras\"):\n",
    "  lstm_model = keras.Sequential()\n",
    "  for _ in range(p-1):\n",
    "    lstm_model.add(keras.layers.LSTM(q, stateful=True,\n",
    "                                         return_sequences=True,\n",
    "                                         batch_input_shape=(1,1,n_feats)))\n",
    "  lstm_model.add(keras.layers.LSTM(q, stateful=True))\n",
    "  lstm_model.add(keras.layers.Dense(1, keras.activations.linear))\n",
    "\n",
    "  lstm_model_checkpoint = keras.callbacks.ModelCheckpoint(\n",
    "                            \"./models/lstm_model_checkpoint\",\n",
    "                            monitor=\"loss\",\n",
    "                            save_best_only=True,\n",
    "                            save_weights_only=False\n",
    "                          )\n",
    "\n",
    "  lstm_model.compile(optimizer=\"Adam\", loss=\"mse\")\n",
    "  lstm_model.fit(x_train_tensor, y_train_tensor,\n",
    "                shuffle=False, batch_size=1,\n",
    "                epochs=100, verbose=\"auto\",\n",
    "                callbacks=[lstm_model_checkpoint, StateResetCallback()])\n",
    "  \n",
    "  lstm_model = keras.models.load_model(\"./models/lstm_model_checkpoint\")\n",
    "  shutil.rmtree(\"./models/lstm_model_checkpoint\")\n",
    "  lstm_model.save(\"./models/lstm_model.keras\")\n",
    "else:\n",
    "  lstm_model = keras.models.load_model(\"./models/lstm_model.keras\")\n",
    "\n",
    "lstm_model.reset_states()\n",
    "lstm_fit = lstm_model.predict(x_train_tensor, batch_size=1)\n",
    "lstm_prediction = lstm_model.predict(x_test_tensor, batch_size=1)\n",
    "\n",
    "print(f\"LSTM RMSE: {np.sqrt(np.mean((rnn_prediction - y_test_tensor)**2))}\")\n",
    "print(f\"LSTM MAE: {np.abs(rnn_prediction-y_test_tensor).max()}\")\n",
    "\n",
    "plt.figure(figsize=(8,5))\n",
    "plt.plot(solar_energy_df[\"solar_mw\"],\n",
    "         label=\"Measured\")\n",
    "plt.plot(y_train_df.index, lstm_fit, label=\"Fitted\")\n",
    "plt.plot(y_test_df.index, lstm_prediction, label=\"Estimated\")\n",
    "plt.autoscale(True, \"x\", tight=True)\n",
    "plt.title(f\"LSTM\")\n",
    "plt.legend()\n",
    "plt.savefig(\"./report/figures/lstm_fit.svg\")\n",
    "plt.close(\"all\")"
   ]
  }
 ],
 "metadata": {
  "kernelspec": {
   "display_name": "Python 3 (ipykernel)",
   "language": "python",
   "name": "python3"
  },
  "language_info": {
   "codemirror_mode": {
    "name": "ipython",
    "version": 3
   },
   "file_extension": ".py",
   "mimetype": "text/x-python",
   "name": "python",
   "nbconvert_exporter": "python",
   "pygments_lexer": "ipython3",
   "version": "3.11.6"
  }
 },
 "nbformat": 4,
 "nbformat_minor": 4
}
