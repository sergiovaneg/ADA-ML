{
 "cells": [
  {
   "cell_type": "markdown",
   "metadata": {},
   "source": [
    "# Environment Initialization"
   ]
  },
  {
   "cell_type": "code",
   "execution_count": 19,
   "metadata": {},
   "outputs": [],
   "source": [
    "import matplotlib.pyplot as plt\n",
    "\n",
    "import pandas as pd\n",
    "import numpy as np\n",
    "\n",
    "from statsmodels.tsa.arima.model import ARIMA\n",
    "\n",
    "import os\n",
    "if not os.path.exists(\"./report/figures/\"):\n",
    "  os.makedirs(\"./report/figures/\")"
   ]
  },
  {
   "cell_type": "markdown",
   "metadata": {},
   "source": [
    "# Data Import/Pre-Processing/Visualization"
   ]
  },
  {
   "cell_type": "code",
   "execution_count": 20,
   "metadata": {},
   "outputs": [],
   "source": [
    "%matplotlib widget\n",
    "\n",
    "dtype = {\n",
    "  \"Datetime\": \"string\",\n",
    "  \"solar_mw\": np.float64,\n",
    "  \"wind-direction\": np.float64, \n",
    "  \"wind-speed\": np.float64,\n",
    "  \"humidity\": np.float64,\n",
    "  \"average-wind-speed-(period)\": np.float64,\n",
    "  \"average-pressure-(period)\": np.float64,\n",
    "  \"temperature\": np.float64\n",
    "}\n",
    "solar_energy_df = pd.read_csv(\"./solarenergy.csv\",\n",
    "                              delimiter=\",\",\n",
    "                              dtype=dtype)\n",
    "\n",
    "solar_energy_df[\"Datetime\"] = pd.to_datetime(solar_energy_df[\"Datetime\"],\n",
    "                                             format=\"%d/%m/%Y %H:%M\")\n",
    "solar_energy_df = solar_energy_df.set_index(\"Datetime\").sort_index()\n",
    "\n",
    "axes = solar_energy_df.plot(figsize=(16,10), subplots=True, sharex=True)\n",
    "plt.suptitle(\"Solar Energy Dataset\")\n",
    "axes[-1].set_xlabel(\"Time\")\n",
    "for axis in axes:\n",
    "  axis.autoscale(True, \"x\", True)\n",
    "plt.savefig(\"./report/figures/timeseries_raw.svg\")\n",
    "plt.close(\"all\")\n",
    "\n",
    "solar_energy_df = solar_energy_df.dropna()\n",
    "solar_energy_df = solar_energy_df.resample(\"1H\").interpolate(\"linear\")\n",
    "\n",
    "axes = solar_energy_df.plot(figsize=(16,10), subplots=True, sharex=True)\n",
    "plt.suptitle(\"Solar Energy Dataset\")\n",
    "axes[-1].set_xlabel(\"Time\")\n",
    "for axis in axes:\n",
    "  axis.autoscale(True, \"x\", True)\n",
    "plt.savefig(\"./report/figures/timeseries_clean.svg\")\n",
    "plt.close(\"all\")"
   ]
  },
  {
   "cell_type": "markdown",
   "metadata": {},
   "source": [
    "# Baseline Model"
   ]
  },
  {
   "cell_type": "code",
   "execution_count": 21,
   "metadata": {},
   "outputs": [
    {
     "name": "stdout",
     "output_type": "stream",
     "text": [
      "65655.04431404267\n"
     ]
    }
   ],
   "source": [
    "baseline_model = ARIMA(endog=solar_energy_df[\"solar_mw\"], order=(2,1,1))\n",
    "res = baseline_model.fit()\n",
    "print(res.mse)"
   ]
  }
 ],
 "metadata": {
  "kernelspec": {
   "display_name": "ADAML",
   "language": "python",
   "name": "python3"
  },
  "language_info": {
   "codemirror_mode": {
    "name": "ipython",
    "version": 3
   },
   "file_extension": ".py",
   "mimetype": "text/x-python",
   "name": "python",
   "nbconvert_exporter": "python",
   "pygments_lexer": "ipython3",
   "version": "3.11.6"
  }
 },
 "nbformat": 4,
 "nbformat_minor": 2
}
