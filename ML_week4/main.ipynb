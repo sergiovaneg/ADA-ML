{
 "cells": [
  {
   "cell_type": "markdown",
   "metadata": {},
   "source": [
    "# Data Import"
   ]
  },
  {
   "cell_type": "code",
   "execution_count": 7,
   "metadata": {},
   "outputs": [
    {
     "data": {
      "text/html": [
       "<div>\n",
       "<style scoped>\n",
       "    .dataframe tbody tr th:only-of-type {\n",
       "        vertical-align: middle;\n",
       "    }\n",
       "\n",
       "    .dataframe tbody tr th {\n",
       "        vertical-align: top;\n",
       "    }\n",
       "\n",
       "    .dataframe thead th {\n",
       "        text-align: right;\n",
       "    }\n",
       "</style>\n",
       "<table border=\"1\" class=\"dataframe\">\n",
       "  <thead>\n",
       "    <tr style=\"text-align: right;\">\n",
       "      <th></th>\n",
       "      <th>solar_mw</th>\n",
       "      <th>wind-direction</th>\n",
       "      <th>wind-speed</th>\n",
       "      <th>humidity</th>\n",
       "      <th>average-wind-speed-(period)</th>\n",
       "      <th>average-pressure-(period)</th>\n",
       "      <th>temperature</th>\n",
       "    </tr>\n",
       "    <tr>\n",
       "      <th>Datetime</th>\n",
       "      <th></th>\n",
       "      <th></th>\n",
       "      <th></th>\n",
       "      <th></th>\n",
       "      <th></th>\n",
       "      <th></th>\n",
       "      <th></th>\n",
       "    </tr>\n",
       "  </thead>\n",
       "  <tbody>\n",
       "    <tr>\n",
       "      <th>2020-05-03 02:00:00</th>\n",
       "      <td>-1.460457</td>\n",
       "      <td>0.663274</td>\n",
       "      <td>0.718079</td>\n",
       "      <td>0.096867</td>\n",
       "      <td>1.464472</td>\n",
       "      <td>-1.076407</td>\n",
       "      <td>0.641897</td>\n",
       "    </tr>\n",
       "    <tr>\n",
       "      <th>2020-05-03 03:00:00</th>\n",
       "      <td>-1.582900</td>\n",
       "      <td>0.663274</td>\n",
       "      <td>0.718079</td>\n",
       "      <td>-1.431309</td>\n",
       "      <td>1.190072</td>\n",
       "      <td>-1.144714</td>\n",
       "      <td>0.641897</td>\n",
       "    </tr>\n",
       "    <tr>\n",
       "      <th>2020-05-03 04:00:00</th>\n",
       "      <td>-1.672379</td>\n",
       "      <td>0.663274</td>\n",
       "      <td>0.718079</td>\n",
       "      <td>-1.112939</td>\n",
       "      <td>1.052872</td>\n",
       "      <td>-0.939792</td>\n",
       "      <td>0.641897</td>\n",
       "    </tr>\n",
       "    <tr>\n",
       "      <th>2020-05-03 05:00:00</th>\n",
       "      <td>-1.640198</td>\n",
       "      <td>0.663274</td>\n",
       "      <td>0.718079</td>\n",
       "      <td>-1.240287</td>\n",
       "      <td>0.641272</td>\n",
       "      <td>-1.008100</td>\n",
       "      <td>0.641897</td>\n",
       "    </tr>\n",
       "    <tr>\n",
       "      <th>2020-05-03 06:00:00</th>\n",
       "      <td>-1.440834</td>\n",
       "      <td>0.663274</td>\n",
       "      <td>0.718079</td>\n",
       "      <td>0.287889</td>\n",
       "      <td>-0.044728</td>\n",
       "      <td>-1.008100</td>\n",
       "      <td>0.641897</td>\n",
       "    </tr>\n",
       "  </tbody>\n",
       "</table>\n",
       "</div>"
      ],
      "text/plain": [
       "                     solar_mw  wind-direction  wind-speed  humidity  \\\n",
       "Datetime                                                              \n",
       "2020-05-03 02:00:00 -1.460457        0.663274    0.718079  0.096867   \n",
       "2020-05-03 03:00:00 -1.582900        0.663274    0.718079 -1.431309   \n",
       "2020-05-03 04:00:00 -1.672379        0.663274    0.718079 -1.112939   \n",
       "2020-05-03 05:00:00 -1.640198        0.663274    0.718079 -1.240287   \n",
       "2020-05-03 06:00:00 -1.440834        0.663274    0.718079  0.287889   \n",
       "\n",
       "                     average-wind-speed-(period)  average-pressure-(period)  \\\n",
       "Datetime                                                                      \n",
       "2020-05-03 02:00:00                     1.464472                  -1.076407   \n",
       "2020-05-03 03:00:00                     1.190072                  -1.144714   \n",
       "2020-05-03 04:00:00                     1.052872                  -0.939792   \n",
       "2020-05-03 05:00:00                     0.641272                  -1.008100   \n",
       "2020-05-03 06:00:00                    -0.044728                  -1.008100   \n",
       "\n",
       "                     temperature  \n",
       "Datetime                          \n",
       "2020-05-03 02:00:00     0.641897  \n",
       "2020-05-03 03:00:00     0.641897  \n",
       "2020-05-03 04:00:00     0.641897  \n",
       "2020-05-03 05:00:00     0.641897  \n",
       "2020-05-03 06:00:00     0.641897  "
      ]
     },
     "execution_count": 7,
     "metadata": {},
     "output_type": "execute_result"
    }
   ],
   "source": [
    "import pandas as pd\n",
    "\n",
    "solar_energy_df = pd.read_csv(\"../ML_week3/solarenergy.csv\",\n",
    "                              delimiter=\",\",\n",
    "                              index_col=0,\n",
    "                              date_format=\"%d/%m/%Y %H:%M\",\n",
    "                              parse_dates=True).sort_index()\n",
    "\n",
    "\"\"\"\n",
    "solar_energy_df[\"Datetime\"] = pd.to_datetime(solar_energy_df[\"Datetime\"],\n",
    "                                             format=\"%d/%m/%Y %H:%M\")\n",
    "solar_energy_df = solar_energy_df.set_index(\"Datetime\").sort_index()\n",
    "\"\"\"\n",
    "\n",
    "solar_energy_df = solar_energy_df.dropna()\n",
    "solar_energy_df = solar_energy_df.resample(\"1H\").interpolate(\"linear\")\n",
    "solar_energy_df = \\\n",
    "  (solar_energy_df - solar_energy_df.mean()) / solar_energy_df.std()\n",
    "\n",
    "solar_energy_df.head()"
   ]
  },
  {
   "cell_type": "markdown",
   "metadata": {},
   "source": [
    "# Pandas to GluonTS"
   ]
  },
  {
   "cell_type": "code",
   "execution_count": 8,
   "metadata": {},
   "outputs": [
    {
     "data": {
      "text/plain": [
       "TrainingDataset(dataset=PandasDataset<size=1, freq=1H, num_feat_dynamic_real=0, num_past_feat_dynamic_real=0, num_feat_static_real=0, num_feat_static_cat=0, static_cardinalities=[]>, splitter=DateSplitter(date=Period('2020-07-06 10:00', 'H')))"
      ]
     },
     "execution_count": 8,
     "metadata": {},
     "output_type": "execute_result"
    }
   ],
   "source": [
    "from gluonts.dataset.pandas import PandasDataset\n",
    "from gluonts.dataset.split import split\n",
    "\n",
    "freq=\"1H\"\n",
    "\n",
    "solar_energy_ds = PandasDataset(\n",
    "    solar_energy_df, target=\"solar_mw\", freq=freq\n",
    "  )\n",
    "\n",
    "prediction_length = 24\n",
    "split_date = solar_energy_df.index[int(len(solar_energy_df)*0.7)]\n",
    "(solar_energy_train,\n",
    " solar_energy_test_template) = split(solar_energy_ds,\n",
    "                                      date=pd.Period(split_date,\n",
    "                                                     freq=\"1H\"))\n",
    "solar_energy_test = \\\n",
    "  solar_energy_test_template.generate_instances(\n",
    "      prediction_length=prediction_length,\n",
    "      windows=10\n",
    "    )\n",
    "\n",
    "solar_energy_train"
   ]
  },
  {
   "cell_type": "markdown",
   "metadata": {},
   "source": [
    "# Model Instantiation"
   ]
  },
  {
   "cell_type": "code",
   "execution_count": 9,
   "metadata": {},
   "outputs": [],
   "source": [
    "from gluonts.time_feature import (get_lags_for_frequency,\n",
    "                                  time_features_from_frequency_str)\n",
    "from transformers import AutoformerConfig, AutoformerForPrediction\n",
    "\n",
    "lags_sequence = get_lags_for_frequency(freq)\n",
    "time_features = time_features_from_frequency_str(freq)\n",
    "\n",
    "config = AutoformerConfig(\n",
    "    prediction_length=prediction_length,\n",
    "    context_length=prediction_length*2,\n",
    "    lags_sequence=lags_sequence,\n",
    "    num_time_features=len(time_features)+1,\n",
    "    encoder_layers=4,\n",
    "    decoder_layers=4,\n",
    "    d_model=32\n",
    "  )\n",
    "\n",
    "model = AutoformerForPrediction(config)"
   ]
  }
 ],
 "metadata": {
  "kernelspec": {
   "display_name": "ADAML",
   "language": "python",
   "name": "python3"
  },
  "language_info": {
   "codemirror_mode": {
    "name": "ipython",
    "version": 3
   },
   "file_extension": ".py",
   "mimetype": "text/x-python",
   "name": "python",
   "nbconvert_exporter": "python",
   "pygments_lexer": "ipython3",
   "version": "3.11.6"
  }
 },
 "nbformat": 4,
 "nbformat_minor": 2
}
