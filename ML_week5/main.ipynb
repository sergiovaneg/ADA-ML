{
 "cells": [
  {
   "cell_type": "markdown",
   "metadata": {},
   "source": [
    "# Environment Setup"
   ]
  },
  {
   "cell_type": "code",
   "execution_count": 1,
   "metadata": {},
   "outputs": [
    {
     "name": "stderr",
     "output_type": "stream",
     "text": [
      "2023-12-11 14:35:50.998474: I tensorflow/core/util/port.cc:113] oneDNN custom operations are on. You may see slightly different numerical results due to floating-point round-off errors from different computation orders. To turn them off, set the environment variable `TF_ENABLE_ONEDNN_OPTS=0`.\n",
      "2023-12-11 14:35:51.023735: E external/local_xla/xla/stream_executor/cuda/cuda_dnn.cc:9261] Unable to register cuDNN factory: Attempting to register factory for plugin cuDNN when one has already been registered\n",
      "2023-12-11 14:35:51.023755: E external/local_xla/xla/stream_executor/cuda/cuda_fft.cc:607] Unable to register cuFFT factory: Attempting to register factory for plugin cuFFT when one has already been registered\n",
      "2023-12-11 14:35:51.024421: E external/local_xla/xla/stream_executor/cuda/cuda_blas.cc:1515] Unable to register cuBLAS factory: Attempting to register factory for plugin cuBLAS when one has already been registered\n",
      "2023-12-11 14:35:51.028913: I tensorflow/core/platform/cpu_feature_guard.cc:182] This TensorFlow binary is optimized to use available CPU instructions in performance-critical operations.\n",
      "To enable the following instructions: AVX2 AVX_VNNI FMA, in other operations, rebuild TensorFlow with the appropriate compiler flags.\n",
      "2023-12-11 14:35:51.693630: W tensorflow/compiler/tf2tensorrt/utils/py_utils.cc:38] TF-TRT Warning: Could not find TensorRT\n",
      "/home/sergiovaneg/miniforge3/envs/ADAML/lib/python3.11/site-packages/h5py/__init__.py:36: UserWarning: h5py is running against HDF5 1.14.3 when it was built against 1.14.2, this may cause problems\n",
      "  _warn((\"h5py is running against HDF5 {0} when it was built against {1}, \"\n"
     ]
    }
   ],
   "source": [
    "%load_ext tensorboard\n",
    "\n",
    "import os\n",
    "from random import random,seed\n",
    "seed(0)\n",
    "\n",
    "from typing import Optional\n",
    "\n",
    "import tensorflow as tf\n",
    "from tensorflow import keras\n",
    "\n",
    "from keras.applications.resnet import ResNet152\n",
    "\n",
    "import numpy as np\n",
    "from PIL import Image\n",
    "\n",
    "import matplotlib.pyplot as plt\n",
    "%matplotlib widget\n",
    "\n",
    "from datetime import datetime\n",
    "\n",
    "INPUT_SHAPE = (256,256,3)\n",
    "NUM_CLASSES = 4\n",
    "CLASS_NAMES = [\"G\",\"H\",\"K\",\"M\"]\n",
    "\n",
    "TRAIN_FRAC, VAL_FRAC = 0.5, 0.2\n",
    "AUG_ITR = 5\n",
    "BATCH_SIZE=4\n",
    "\n",
    "USE_TRAINED = True\n",
    "USE_TUNED = True"
   ]
  },
  {
   "cell_type": "markdown",
   "metadata": {},
   "source": [
    "# Dataset Overview"
   ]
  },
  {
   "cell_type": "code",
   "execution_count": 2,
   "metadata": {},
   "outputs": [
    {
     "name": "stdout",
     "output_type": "stream",
     "text": [
      "Found 187 files belonging to 4 classes.\n"
     ]
    },
    {
     "name": "stderr",
     "output_type": "stream",
     "text": [
      "2023-12-11 14:35:54.020968: E external/local_xla/xla/stream_executor/cuda/cuda_driver.cc:274] failed call to cuInit: CUDA_ERROR_UNKNOWN: unknown error\n",
      "2023-12-11 14:35:54.020989: I external/local_xla/xla/stream_executor/cuda/cuda_diagnostics.cc:129] retrieving CUDA diagnostic information for host: Jorogumo\n",
      "2023-12-11 14:35:54.020991: I external/local_xla/xla/stream_executor/cuda/cuda_diagnostics.cc:136] hostname: Jorogumo\n",
      "2023-12-11 14:35:54.021104: I external/local_xla/xla/stream_executor/cuda/cuda_diagnostics.cc:159] libcuda reported version is: 535.129.3\n",
      "2023-12-11 14:35:54.021113: I external/local_xla/xla/stream_executor/cuda/cuda_diagnostics.cc:163] kernel reported version is: 535.129.3\n",
      "2023-12-11 14:35:54.021114: I external/local_xla/xla/stream_executor/cuda/cuda_diagnostics.cc:241] kernel version seems to match DSO: 535.129.3\n"
     ]
    },
    {
     "name": "stdout",
     "output_type": "stream",
     "text": [
      "number of G samples: 68.0\n",
      "number of H samples: 48.0\n",
      "number of K samples: 30.0\n",
      "number of M samples: 41.0\n"
     ]
    }
   ],
   "source": [
    "dataset = keras.utils.image_dataset_from_directory(\n",
    "  \"./dataset/\",\n",
    "  labels=\"inferred\",\n",
    "  label_mode=\"categorical\",\n",
    "  class_names=CLASS_NAMES,\n",
    "  color_mode=\"rgb\",\n",
    "  batch_size=1,\n",
    "  image_size=INPUT_SHAPE[:2],\n",
    "  seed=0,\n",
    "  interpolation=\"bilinear\"\n",
    ")\n",
    "\n",
    "class_counter = np.zeros_like(CLASS_NAMES, dtype=np.float32)\n",
    "for (_,label) in dataset.as_numpy_iterator():\n",
    "  label_idx = label.argmax()\n",
    "  class_counter[label_idx] = class_counter[label_idx]+1\n",
    "\n",
    "for (class_name, count) in zip(CLASS_NAMES, class_counter):\n",
    "  print(f\"number of {class_name} samples: {count}\")\n",
    "\n",
    "plt.figure(figsize=(10,10))\n",
    "for i,(image,label) in enumerate(dataset.take(9)):\n",
    "  image_array = image[0,:,:,:].numpy().astype(np.uint8)\n",
    "  pil_image = Image.fromarray(image_array, mode=\"RGB\")\n",
    "  ax = plt.subplot(3,3,i+1)\n",
    "  plt.imshow(pil_image)\n",
    "  plt.title(CLASS_NAMES[np.argmax(label[0,:])])\n",
    "  plt.axis(\"off\")\n",
    "\n",
    "plt.savefig(\"./figures/rgb_overview.png\")\n",
    "plt.close(\"all\")"
   ]
  },
  {
   "cell_type": "markdown",
   "metadata": {},
   "source": [
    "# Data Augmentation"
   ]
  },
  {
   "cell_type": "code",
   "execution_count": 3,
   "metadata": {},
   "outputs": [],
   "source": [
    "augmentation_layers = [\n",
    "  keras.layers.RandomZoom(height_factor=0.05,\n",
    "                          width_factor=0.05,\n",
    "                          fill_mode=\"constant\",\n",
    "                          interpolation=\"bilinear\",\n",
    "                          seed=0),\n",
    "  keras.layers.RandomRotation(factor=0.05,\n",
    "                             fill_mode=\"constant\",\n",
    "                             interpolation=\"bilinear\",\n",
    "                             seed=0),\n",
    "  keras.layers.RandomTranslation(height_factor=0.05,\n",
    "                                 width_factor=0.05,\n",
    "                                 fill_mode=\"constant\",\n",
    "                                 interpolation=\"bilinear\",\n",
    "                                 seed=0)\n",
    "]\n",
    "\n",
    "def data_augmentation(x):\n",
    "  for layer in augmentation_layers:\n",
    "    x = layer(x)\n",
    "  return x\n",
    "\n",
    "ds_train, ds_test = keras.utils.split_dataset(dataset, TRAIN_FRAC+VAL_FRAC,\n",
    "                                              seed=0, shuffle=False)\n",
    "\n",
    "ds_train_aux = ds_train.map(lambda x,y : (data_augmentation(x),y))\n",
    "plt.figure(figsize=(10,10))\n",
    "for i,(image,label) in enumerate(ds_train_aux.take(9)):\n",
    "  image_array = image[0,:,:,:].numpy().astype(np.uint8)\n",
    "  pil_image = Image.fromarray(image_array, mode=\"RGB\")\n",
    "  ax = plt.subplot(3,3,i+1)\n",
    "  plt.imshow(pil_image)\n",
    "  plt.title(CLASS_NAMES[np.argmax(label[0,:])])\n",
    "  plt.axis(\"off\")\n",
    "plt.savefig(\"./figures/aug_overview.png\")\n",
    "plt.close(\"all\")\n",
    "\n",
    "del ds_train_aux\n",
    "\n",
    "ds_train_aug = ds_train.map(lambda x,y : (x,y))\n",
    "\n",
    "for _ in range(AUG_ITR):\n",
    "  ds_train_aug = ds_train_aug.concatenate(\n",
    "    ds_train.map(lambda x,y : (data_augmentation(x),y)))\n",
    "\n",
    "ds_train_aug, ds_val_aug = keras.utils.split_dataset(ds_train_aug,\n",
    "                                             TRAIN_FRAC/(TRAIN_FRAC+VAL_FRAC),\n",
    "                                             seed=0,\n",
    "                                             shuffle=True)"
   ]
  },
  {
   "cell_type": "markdown",
   "metadata": {},
   "source": [
    "# Pre-trained Model"
   ]
  },
  {
   "cell_type": "code",
   "execution_count": 4,
   "metadata": {},
   "outputs": [
    {
     "name": "stdout",
     "output_type": "stream",
     "text": [
      "Model: \"model_1\"\n",
      "____________________________________________________________________________\n",
      " Layer (type)                Output Shape              Param #   Trainable  \n",
      "============================================================================\n",
      " input_3 (InputLayer)        [(None, 256, 256, 3)]     0         Y          \n",
      "                                                                            \n",
      " resnet152 (Functional)      (None, 8, 8, 2048)        5837094   Y          \n",
      "                                                       4                    \n",
      "                                                                            \n",
      " global_average_pooling2d (  (None, 2048)              0         Y          \n",
      " GlobalAveragePooling2D)                                                    \n",
      "                                                                            \n",
      " dropout (Dropout)           (None, 2048)              0         Y          \n",
      "                                                                            \n",
      " dense (Dense)               (None, 4)                 8196      Y          \n",
      "                                                                            \n",
      "============================================================================\n",
      "Total params: 58379140 (222.70 MB)\n",
      "Trainable params: 8196 (32.02 KB)\n",
      "Non-trainable params: 58370944 (222.67 MB)\n",
      "____________________________________________________________________________\n"
     ]
    }
   ],
   "source": [
    "keras.backend.clear_session()\n",
    "\n",
    "def create_model(input_shape:tuple[int,int,int]=INPUT_SHAPE,\n",
    "                  num_classes:int=NUM_CLASSES\n",
    "                ) -> tuple[keras.Model,Optional[keras.Model]]:\n",
    "  raw_inputs = keras.Input(shape=input_shape, dtype=tf.uint8)\n",
    "  x = tf.cast(raw_inputs, tf.float32)\n",
    "  \n",
    "  # This little shit can't be serialized, so I had to build a separate model\n",
    "  proc_inputs = keras.applications.resnet.preprocess_input(x)\n",
    "\n",
    "  if USE_TRAINED and os.path.exists(\"./models/trained_model.keras\"):\n",
    "    return keras.Model(raw_inputs, proc_inputs), None\n",
    "\n",
    "  base_model = ResNet152(weights=\"imagenet\",\n",
    "                    include_top=False,\n",
    "                    input_shape=input_shape)\n",
    "  base_model.trainable = False\n",
    "\n",
    "  if not os.path.exists(\"./models/base_model.keras\"):\n",
    "    base_model.save(\"./models/base_model.keras\")\n",
    "\n",
    "  inputs = keras.Input(shape=proc_inputs.shape[1:],\n",
    "                       dtype=tf.float32)\n",
    "  x = base_model(inputs, training=False)\n",
    "  x = keras.layers.GlobalAveragePooling2D()(x)\n",
    "  x = keras.layers.Dropout(0.2)(x)\n",
    "  outputs = keras.layers.Dense(num_classes, activation=\"relu\")(x)\n",
    "  \n",
    "  return keras.Model(raw_inputs, proc_inputs), keras.Model(inputs, outputs)\n",
    "\n",
    "if USE_TRAINED and os.path.exists(\"./models/trained_model.keras\"):\n",
    "  pre_processor, _ = create_model()\n",
    "  model = keras.models.load_model(\"./models/trained_model.keras\")\n",
    "else:\n",
    "  pre_processor, model = create_model()\n",
    "\n",
    "model.summary(show_trainable=True)\n",
    "\n",
    "if not os.path.exists(\"./models/untrained_model.keras\"):\n",
    "  model.save(\"./models/untrained_model.keras\")"
   ]
  },
  {
   "cell_type": "markdown",
   "metadata": {},
   "source": [
    "# Top Layer Training"
   ]
  },
  {
   "cell_type": "code",
   "execution_count": null,
   "metadata": {},
   "outputs": [],
   "source": [
    "class_weight = {idx: np.sum(class_counter)\n",
    "                          /(class_counter[idx]*class_counter.size)\n",
    "                  for idx in range(class_counter.size)}\n",
    "\n",
    "ds_train_proc = ds_train_aug.map(\n",
    "  lambda x,y : (pre_processor(x),y)).rebatch(32)\n",
    "ds_val_proc = ds_val_aug.map(\n",
    "  lambda x,y : (pre_processor(x),y)).rebatch(32)\n",
    "\n",
    "if not (USE_TRAINED and os.path.exists(\"./models/trained_model.keras\")):\n",
    "  model.compile(\n",
    "    optimizer=keras.optimizers.Adam(),\n",
    "    loss=keras.losses.CategoricalCrossentropy(from_logits=True),\n",
    "    metrics=[keras.metrics.CategoricalAccuracy()]\n",
    "  )\n",
    "\n",
    "  log_dir = \"logs/fit/\" + datetime.now().strftime(\"%Y%m%d_%H%M%S\")\n",
    "  tensorboard_callback = \\\n",
    "    keras.callbacks.TensorBoard(log_dir=log_dir, histogram_freq=1)\n",
    "\n",
    "  model.fit(ds_train_proc, epochs=50,\n",
    "            class_weight=class_weight,\n",
    "            validation_data=ds_val_proc,\n",
    "            callbacks=[tensorboard_callback,\n",
    "                      keras.callbacks.EarlyStopping(patience=5,\n",
    "                                                    restore_best_weights=True)])\n",
    "\n",
    "  model.save(\"./models/trained_model.keras\")\n",
    "\n",
    "%tensorboard --logdir logs/fit"
   ]
  },
  {
   "cell_type": "markdown",
   "metadata": {},
   "source": [
    "# Initial Benchmark"
   ]
  },
  {
   "cell_type": "code",
   "execution_count": 6,
   "metadata": {},
   "outputs": [
    {
     "name": "stdout",
     "output_type": "stream",
     "text": [
      "56/56 [==============================] - 15s 234ms/step - loss: 0.8952 - categorical_accuracy: 0.6429\n",
      "56/56 [==============================] - 14s 219ms/step\n"
     ]
    }
   ],
   "source": [
    "ds_test_proc = ds_test.map(\n",
    "  lambda x,y : (pre_processor(x),y)\n",
    ")\n",
    "model.evaluate(ds_test_proc)\n",
    "\n",
    "y_hat = model.predict(ds_test_proc)\n",
    "\n",
    "i = 0\n",
    "plt.figure(figsize=(10,10))\n",
    "for pair,prediction in zip(ds_test, y_hat):\n",
    "  if i >= 9:\n",
    "    break\n",
    "  if random() > 0.5:\n",
    "    continue\n",
    "\n",
    "  image,label = pair\n",
    "  image_array = image[0,:,:,:].numpy().astype(np.uint8)\n",
    "  pil_image = Image.fromarray(image_array, mode=\"RGB\")\n",
    "  ax = plt.subplot(3,3,i+1)\n",
    "  plt.imshow(pil_image)\n",
    "  plt.title(f\"True: {CLASS_NAMES[np.argmax(label[0,:])]}\\n\" +\n",
    "            f\"Predicted: {CLASS_NAMES[np.argmax(prediction)]}\")\n",
    "  plt.axis(\"off\")\n",
    "\n",
    "  i += 1\n",
    "\n",
    "plt.savefig(\"./figures/trained_model_results.png\")\n",
    "plt.close(\"all\")"
   ]
  },
  {
   "cell_type": "markdown",
   "metadata": {},
   "source": [
    "# Fine-Tuning"
   ]
  },
  {
   "cell_type": "code",
   "execution_count": null,
   "metadata": {},
   "outputs": [],
   "source": [
    "if not (USE_TUNED and os.path.exists(\"./models/tuned_model.keras\")):\n",
    "  model.get_layer(name=\"resnet152\").trainable = True\n",
    "\n",
    "  model.compile(\n",
    "    optimizer=keras.optimizers.Adam(1e-5),\n",
    "    loss=keras.losses.CategoricalCrossentropy(from_logits=True),\n",
    "    metrics=[keras.metrics.CategoricalAccuracy()]\n",
    "  )\n",
    "\n",
    "  log_dir = \"logs/tune/\" + datetime.now().strftime(\"%Y%m%d_%H%M%S\")\n",
    "  tensorboard_callback = \\\n",
    "    keras.callbacks.TensorBoard(log_dir=log_dir, histogram_freq=1)\n",
    "\n",
    "  model.fit(ds_train_proc, epochs=50,\n",
    "            class_weight=class_weight,\n",
    "            validation_data=ds_val_proc,\n",
    "            callbacks=[tensorboard_callback,\n",
    "                      keras.callbacks.EarlyStopping(patience=5,\n",
    "                                                    restore_best_weights=True)])\n",
    "  \n",
    "  model.get_layer(name=\"resnet152\").trainable = False\n",
    "\n",
    "  model.save(\"./models/tuned_model.keras\")\n",
    "else:\n",
    "  model = keras.models.load_model(\"./models/tuned_model.keras\")\n",
    "\n",
    "%tensorboard --logdir logs/tune"
   ]
  },
  {
   "cell_type": "markdown",
   "metadata": {},
   "source": [
    "# Final Benchmark"
   ]
  },
  {
   "cell_type": "code",
   "execution_count": 9,
   "metadata": {},
   "outputs": [
    {
     "name": "stdout",
     "output_type": "stream",
     "text": [
      "56/56 [==============================] - 11s 198ms/step - loss: 0.5443 - categorical_accuracy: 0.7321\n",
      "56/56 [==============================] - 10s 180ms/step\n"
     ]
    }
   ],
   "source": [
    "model.evaluate(ds_test_proc)\n",
    "y_hat = model.predict(ds_test_proc)\n",
    "\n",
    "i = 0\n",
    "plt.figure(figsize=(10,10))\n",
    "for pair,prediction in zip(ds_test, y_hat):\n",
    "  if i >= 9:\n",
    "    break\n",
    "  if random() > 0.5:\n",
    "    continue\n",
    "\n",
    "  image,label = pair\n",
    "  image_array = image[0,:,:,:].numpy().astype(np.uint8)\n",
    "  pil_image = Image.fromarray(image_array, mode=\"RGB\")\n",
    "  ax = plt.subplot(3,3,i+1)\n",
    "  plt.imshow(pil_image)\n",
    "  plt.title(f\"True: {CLASS_NAMES[np.argmax(label[0,:])]}\\n\" +\n",
    "            f\"Predicted: {CLASS_NAMES[np.argmax(prediction)]}\")\n",
    "  plt.axis(\"off\")\n",
    "\n",
    "  i += 1\n",
    "\n",
    "plt.savefig(\"./figures/tuned_model_results.png\")\n",
    "plt.close(\"all\")"
   ]
  }
 ],
 "metadata": {
  "kernelspec": {
   "display_name": "ADAML",
   "language": "python",
   "name": "python3"
  },
  "language_info": {
   "codemirror_mode": {
    "name": "ipython",
    "version": 3
   },
   "file_extension": ".py",
   "mimetype": "text/x-python",
   "name": "python",
   "nbconvert_exporter": "python",
   "pygments_lexer": "ipython3",
   "version": "3.11.6"
  }
 },
 "nbformat": 4,
 "nbformat_minor": 2
}
