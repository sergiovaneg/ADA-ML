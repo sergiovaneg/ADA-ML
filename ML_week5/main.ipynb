{
 "cells": [
  {
   "cell_type": "markdown",
   "metadata": {},
   "source": [
    "# Environment Setup"
   ]
  },
  {
   "cell_type": "code",
   "execution_count": null,
   "metadata": {},
   "outputs": [],
   "source": [
    "%load_ext tensorboard\n",
    "\n",
    "import tensorflow as tf\n",
    "from tensorflow import keras\n",
    "\n",
    "from tensorflow.keras.applications.resnet import ResNet152\n",
    "from tensorflow.keras.applications.resnet import (preprocess_input,\n",
    "                                                  decode_predictions)\n",
    "\n",
    "import numpy as np\n",
    "from PIL import Image\n",
    "\n",
    "import matplotlib.pyplot as plt\n",
    "%matplotlib widget\n",
    "\n",
    "from datetime import datetime\n",
    "\n",
    "INPUT_SHAPE = (256,256,3)\n",
    "NUM_CLASSES = 4\n",
    "CLASS_NAMES = [\"G\",\"H\",\"K\",\"M\"]\n",
    "\n",
    "TRAIN_FRAC, VAL_FRAC = 0.6, 0.2\n",
    "BATCH_SIZE=4"
   ]
  },
  {
   "cell_type": "markdown",
   "metadata": {},
   "source": [
    "# Dataset Overview"
   ]
  },
  {
   "cell_type": "code",
   "execution_count": null,
   "metadata": {},
   "outputs": [],
   "source": [
    "dataset = keras.utils.image_dataset_from_directory(\n",
    "  \"./dataset/\",\n",
    "  labels=\"inferred\",\n",
    "  label_mode=\"categorical\",\n",
    "  class_names=CLASS_NAMES,\n",
    "  color_mode=\"rgb\",\n",
    "  batch_size=1,\n",
    "  image_size=INPUT_SHAPE[:2],\n",
    "  seed=0,\n",
    "  interpolation=\"bilinear\"\n",
    ")\n",
    "\n",
    "class_counter = np.zeros_like(CLASS_NAMES, dtype=np.float32)\n",
    "for (_,label) in dataset.as_numpy_iterator():\n",
    "  label_idx = label.argmax()\n",
    "  class_counter[label_idx] = class_counter[label_idx]+1\n",
    "\n",
    "for (class_name, count) in zip(CLASS_NAMES, class_counter):\n",
    "  print(f\"number of {class_name} samples: {count}\")\n",
    "\n",
    "plt.figure(figsize=(10,10))\n",
    "for i,(image,label) in enumerate(dataset.take(9)):\n",
    "  image_array = image[0,:,:,:].numpy().astype(np.uint8)\n",
    "  pil_image = Image.fromarray(image_array, mode=\"RGB\")\n",
    "  ax = plt.subplot(3,3,i+1)\n",
    "  plt.imshow(pil_image)\n",
    "  plt.title(CLASS_NAMES[np.argmax(label[0,:])])\n",
    "  plt.axis(\"off\")\n",
    "\n",
    "plt.savefig(\"./figures/rgb_overview.png\")\n",
    "plt.close(\"all\")"
   ]
  },
  {
   "cell_type": "markdown",
   "metadata": {},
   "source": [
    "# Data Augmentation"
   ]
  },
  {
   "cell_type": "code",
   "execution_count": null,
   "metadata": {},
   "outputs": [],
   "source": [
    "augmentation_layers = [\n",
    "  keras.layers.RandomZoom(height_factor=0.1,\n",
    "                          width_factor=0.1,\n",
    "                          fill_mode=\"reflect\",\n",
    "                          interpolation=\"bilinear\",\n",
    "                          seed=0),\n",
    "  keras.layers.RandomRotation(factor=0.05,\n",
    "                             fill_mode=\"reflect\",\n",
    "                             interpolation=\"bilinear\",\n",
    "                             seed=0),\n",
    "  keras.layers.RandomTranslation(height_factor=0.1,\n",
    "                                 width_factor=0.1,\n",
    "                                 fill_mode=\"reflect\",\n",
    "                                 interpolation=\"bilinear\",\n",
    "                                 seed=0)\n",
    "]\n",
    "\n",
    "def data_augmentation(x):\n",
    "  for layer in augmentation_layers:\n",
    "    x = layer(x)\n",
    "  return x\n",
    "\n",
    "ds_train, ds_test = keras.utils.split_dataset(dataset, TRAIN_FRAC+VAL_FRAC,\n",
    "                                              seed=0, shuffle=False)\n",
    "\n",
    "ds_train = ds_train.concatenate(\n",
    "  ds_train.map(lambda x,y : (data_augmentation(x),y)))\n",
    "ds_train, ds_val = keras.utils.split_dataset(ds_train,\n",
    "                                             VAL_FRAC/(TRAIN_FRAC+VAL_FRAC),\n",
    "                                             seed=False,\n",
    "                                             shuffle=True)"
   ]
  },
  {
   "cell_type": "markdown",
   "metadata": {},
   "source": [
    "# Pre-trained Model"
   ]
  },
  {
   "cell_type": "code",
   "execution_count": null,
   "metadata": {},
   "outputs": [],
   "source": [
    "keras.backend.clear_session()\n",
    "\n",
    "def create_model(input_shape:tuple[int,int,int]=INPUT_SHAPE,\n",
    "                 num_classes:int=NUM_CLASSES) -> keras.Model:\n",
    "  base_model = ResNet152(weights=\"imagenet\",\n",
    "                    include_top=False,\n",
    "                    input_shape=input_shape)\n",
    "  base_model.trainable = False\n",
    "  base_model.save(\"./models/base_model.keras\")\n",
    "\n",
    "  raw_inputs = keras.Input(shape=input_shape, dtype=tf.uint8)\n",
    "  x = tf.cast(raw_inputs, tf.float32)\n",
    "  proc_inputs = preprocess_input(x)\n",
    "\n",
    "  inputs = keras.Input(shape=proc_inputs.shape[1:],\n",
    "                       dtype=tf.float32)\n",
    "  x = base_model(inputs, training=False)\n",
    "  x = keras.layers.GlobalAveragePooling2D()(x)\n",
    "  x = keras.layers.Dropout(0.2)(x)\n",
    "  outputs = keras.layers.Dense(num_classes, activation=\"relu\")(x)\n",
    "  \n",
    "  return keras.Model(raw_inputs, proc_inputs), keras.Model(inputs, outputs)\n",
    "\n",
    "pre_processor, model = create_model()\n",
    "model.summary(show_trainable=True)\n",
    "model.save(\"./models/untrained_model.keras\")"
   ]
  },
  {
   "cell_type": "markdown",
   "metadata": {},
   "source": [
    "# Top Layer Training"
   ]
  },
  {
   "cell_type": "code",
   "execution_count": null,
   "metadata": {},
   "outputs": [],
   "source": [
    "model.compile(\n",
    "  optimizer=keras.optimizers.Adam(),\n",
    "  loss=keras.losses.CategoricalCrossentropy(from_logits=True),\n",
    "  metrics=[keras.metrics.CategoricalAccuracy()]\n",
    ")\n",
    "\n",
    "ds_train = ds_train.map(lambda x,y : (pre_processor(x),y))\n",
    "ds_val = ds_val.map(lambda x,y : (pre_processor(x),y))\n",
    "\n",
    "class_weight = {idx: np.sum(class_counter) \n",
    "                        /(class_counter[idx]*class_counter.size)\n",
    "                for idx in range(class_counter.size)}\n",
    "\n",
    "log_dir = \"logs/fit/\" + datetime.now().strftime(\"%Y%m%d_%H%M%S\")\n",
    "tensorboard_callback = \\\n",
    "  keras.callbacks.TensorBoard(log_dir=log_dir, histogram_freq=1)\n",
    "\n",
    "model.fit(ds_train, epochs=10,\n",
    "          class_weight=class_weight,\n",
    "          validation_data=ds_val,\n",
    "          callbacks=[tensorboard_callback])\n",
    "\n",
    "%tensorboard --logdir logs/fit"
   ]
  }
 ],
 "metadata": {
  "kernelspec": {
   "display_name": "ADAML",
   "language": "python",
   "name": "python3"
  },
  "language_info": {
   "codemirror_mode": {
    "name": "ipython",
    "version": 3
   },
   "file_extension": ".py",
   "mimetype": "text/x-python",
   "name": "python",
   "nbconvert_exporter": "python",
   "pygments_lexer": "ipython3",
   "version": "3.11.6"
  }
 },
 "nbformat": 4,
 "nbformat_minor": 2
}
