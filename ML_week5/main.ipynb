{
 "cells": [
  {
   "cell_type": "markdown",
   "metadata": {},
   "source": [
    "# Environment Setup"
   ]
  },
  {
   "cell_type": "code",
   "execution_count": 5,
   "metadata": {},
   "outputs": [],
   "source": [
    "import tensorflow as tf\n",
    "from tensorflow import keras\n",
    "\n",
    "from tensorflow.keras.applications.resnet import ResNet152\n",
    "from tensorflow.keras.applications.resnet import (preprocess_input,\n",
    "                                                  decode_predictions)\n",
    "\n",
    "import numpy as np\n",
    "from PIL import Image\n",
    "\n",
    "import matplotlib.pyplot as plt\n",
    "%matplotlib widget\n",
    "\n",
    "INPUT_SHAPE = (256,256,3)\n",
    "NUM_CLASSES = 4\n",
    "CLASS_NAMES = [\"G\",\"H\",\"K\",\"M\"]\n",
    "\n",
    "TRAIN_FRAC = 0.8\n",
    "BATCH_SIZE=4"
   ]
  },
  {
   "cell_type": "markdown",
   "metadata": {},
   "source": [
    "# Dataset Overview"
   ]
  },
  {
   "cell_type": "code",
   "execution_count": 2,
   "metadata": {},
   "outputs": [
    {
     "name": "stdout",
     "output_type": "stream",
     "text": [
      "Found 187 files belonging to 4 classes.\n"
     ]
    },
    {
     "name": "stderr",
     "output_type": "stream",
     "text": [
      "2023-12-08 17:26:37.969499: E external/local_xla/xla/stream_executor/cuda/cuda_driver.cc:274] failed call to cuInit: CUDA_ERROR_UNKNOWN: unknown error\n",
      "2023-12-08 17:26:37.969563: I external/local_xla/xla/stream_executor/cuda/cuda_diagnostics.cc:129] retrieving CUDA diagnostic information for host: Jorogumo\n",
      "2023-12-08 17:26:37.969567: I external/local_xla/xla/stream_executor/cuda/cuda_diagnostics.cc:136] hostname: Jorogumo\n",
      "2023-12-08 17:26:37.969859: I external/local_xla/xla/stream_executor/cuda/cuda_diagnostics.cc:159] libcuda reported version is: 535.129.3\n",
      "2023-12-08 17:26:37.969889: I external/local_xla/xla/stream_executor/cuda/cuda_diagnostics.cc:163] kernel reported version is: 535.129.3\n",
      "2023-12-08 17:26:37.969891: I external/local_xla/xla/stream_executor/cuda/cuda_diagnostics.cc:241] kernel version seems to match DSO: 535.129.3\n"
     ]
    },
    {
     "name": "stdout",
     "output_type": "stream",
     "text": [
      "number of G samples: 68\n",
      "number of H samples: 48\n",
      "number of K samples: 30\n",
      "number of M samples: 41\n"
     ]
    }
   ],
   "source": [
    "dataset = keras.utils.image_dataset_from_directory(\n",
    "  \"./dataset/\",\n",
    "  labels=\"inferred\",\n",
    "  label_mode=\"categorical\",\n",
    "  class_names=CLASS_NAMES,\n",
    "  color_mode=\"rgb\",\n",
    "  batch_size=1,\n",
    "  image_size=INPUT_SHAPE[:2],\n",
    "  seed=0,\n",
    "  interpolation=\"bilinear\"\n",
    ")\n",
    "\n",
    "counter = np.zeros_like(CLASS_NAMES, dtype=np.uint)\n",
    "for (_,label) in dataset.as_numpy_iterator():\n",
    "  label_idx = label.argmax()\n",
    "  counter[label_idx] = counter[label_idx]+1\n",
    "\n",
    "for (class_name, count) in zip(CLASS_NAMES, counter):\n",
    "  print(f\"number of {class_name} samples: {count}\")\n",
    "\n",
    "plt.figure(figsize=(10,10))\n",
    "for i,(image,label) in enumerate(dataset.take(9)):\n",
    "  image_array = image[0,:,:,:].numpy().astype(np.uint8)\n",
    "  pil_image = Image.fromarray(image_array, mode=\"RGB\")\n",
    "  ax = plt.subplot(3,3,i+1)\n",
    "  plt.imshow(pil_image)\n",
    "  plt.title(CLASS_NAMES[np.argmax(label[0,:])])\n",
    "  plt.axis(\"off\")\n",
    "\n",
    "plt.savefig(\"./figures/rgb_overview.png\")\n",
    "plt.close(\"all\")"
   ]
  },
  {
   "cell_type": "markdown",
   "metadata": {},
   "source": [
    "# Data Augmentation"
   ]
  },
  {
   "cell_type": "code",
   "execution_count": 6,
   "metadata": {},
   "outputs": [],
   "source": [
    "augmentation_layers = [\n",
    "  keras.layers.RandomZoom(height_factor=0.1,\n",
    "                          width_factor=0.1,\n",
    "                          fill_mode=\"reflect\",\n",
    "                          interpolation=\"bilinear\",\n",
    "                          seed=0),\n",
    "  keras.layers.RandomRotation(factor=0.05,\n",
    "                             fill_mode=\"reflect\",\n",
    "                             interpolation=\"bilinear\",\n",
    "                             seed=0),\n",
    "  keras.layers.RandomTranslation(height_factor=0.1,\n",
    "                                 width_factor=0.1,\n",
    "                                 fill_mode=\"reflect\",\n",
    "                                 interpolation=\"bilinear\",\n",
    "                                 seed=0)\n",
    "]\n",
    "\n",
    "def data_augmentation(x):\n",
    "  for layer in augmentation_layers:\n",
    "    x = layer(x)\n",
    "  return x\n",
    "\n",
    "ds_train, ds_test = keras.utils.split_dataset(dataset, TRAIN_FRAC,\n",
    "                                              seed=0, shuffle=False)\n",
    "\n",
    "ds_train = ds_train.concatenate(\n",
    "  ds_train.map(lambda x,y : (data_augmentation(x),y)))\n",
    "\n",
    "ds_train = ds_train.batch(BATCH_SIZE).prefetch(tf.data.AUTOTUNE).cache()\n",
    "ds_test = ds_test.batch(BATCH_SIZE).prefetch(tf.data.AUTOTUNE).cache()"
   ]
  },
  {
   "cell_type": "markdown",
   "metadata": {},
   "source": [
    "# Pre-trained Model"
   ]
  },
  {
   "cell_type": "code",
   "execution_count": null,
   "metadata": {},
   "outputs": [],
   "source": [
    "def create_model(input_shape:tuple[int,int,int]=INPUT_SHAPE,\n",
    "                 num_classes:int=NUM_CLASSES) -> keras.Model:\n",
    "  base_model = ResNet152(weights=\"imagenet\",\n",
    "                    include_top=False,\n",
    "                    input_shape=input_shape)\n",
    "  base_model.trainable = False\n",
    "\n",
    "  inputs = keras.Input(shape=input_shape)\n",
    "  x = preprocess_input(inputs)\n",
    "  x = base_model(x, training=False)\n",
    "  x = keras.layers.GlobalAveragePooling2D()(x)\n",
    "  x = keras.layers.Dropout(0.2)(x)\n",
    "  outputs = keras.layers.Dense(num_classes)(x)\n",
    "  return keras.Model(inputs, outputs)\n",
    "\n",
    "model = create_model()"
   ]
  }
 ],
 "metadata": {
  "kernelspec": {
   "display_name": "ADAML",
   "language": "python",
   "name": "python3"
  },
  "language_info": {
   "codemirror_mode": {
    "name": "ipython",
    "version": 3
   },
   "file_extension": ".py",
   "mimetype": "text/x-python",
   "name": "python",
   "nbconvert_exporter": "python",
   "pygments_lexer": "ipython3",
   "version": "3.11.6"
  }
 },
 "nbformat": 4,
 "nbformat_minor": 2
}
